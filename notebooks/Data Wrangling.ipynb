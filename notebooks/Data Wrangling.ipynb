{
 "cells": [
  {
   "cell_type": "markdown",
   "id": "7ddd6e1e-9866-4f4d-9adc-cca20f8ccf9f",
   "metadata": {
    "tags": []
   },
   "source": [
    "# Capstone Project - Data Scientist Salaries: Data Wrangling"
   ]
  },
  {
   "cell_type": "markdown",
   "id": "0801ae2d-c745-4ef0-8815-ca3d7a8b5621",
   "metadata": {
    "jp-MarkdownHeadingCollapsed": true,
    "tags": []
   },
   "source": [
    "## Introduction"
   ]
  },
  {
   "cell_type": "markdown",
   "id": "95ad574c-8a70-4862-8731-4bf9aac6b9f5",
   "metadata": {
    "jp-MarkdownHeadingCollapsed": true,
    "tags": []
   },
   "source": [
    "### The \"Latest Data Science Salaries\" Dataset"
   ]
  },
  {
   "cell_type": "markdown",
   "id": "a0af286c-f261-4d0c-9fec-740365c6436e",
   "metadata": {},
   "source": [
    "The \"Latest Data Science Salaries\" dataset https://www.kaggle.com/datasets/iamsouravbanerjee/data-science-salaries-2023 provides valuable insights into the compensation trends and variations in the field of data science from 2020 to 2024.\n",
    "\n",
    "The dataset includes information about Job Title, Employment Type, Experience Level, Expertise Level, Salary, Salary Currency, Company Location, Salary in USD, Employee Residence, Company Size, and Year. This information provides a comprehensive view of job-related details, compensation levels, company characteristics, and temporal aspects, offering valuable insights for analyzing and understanding the dataset."
   ]
  },
  {
   "cell_type": "markdown",
   "id": "d43dcdd9-36c1-40a8-bef5-b09ca38ed050",
   "metadata": {
    "jp-MarkdownHeadingCollapsed": true,
    "tags": []
   },
   "source": [
    "### Global Country Information Dataset 2023"
   ]
  },
  {
   "cell_type": "markdown",
   "id": "e8916385-19cf-4d03-9f53-57982259bd11",
   "metadata": {},
   "source": [
    "Global Country Information Dataset 2023 https://www.kaggle.com/datasets/nelgiriyewithana/countries-of-the-world-2023  provides a wealth of information about all countries worldwide, covering a wide range of indicators and attributes. It encompasses demographic statistics, economic indicators, environmental factors, healthcare metrics, education statistics, and much more. With every country represented, this dataset offers a complete global perspective on various aspects of nations, enabling in-depth analyses and cross-country comparisons.\n",
    " The dataset is divided into 7 parts, which I will later combine into one\n",
    "\n",
    "Country: Name of the country.\n",
    "\n",
    "Density (P/Km2): Population density measured in persons per square kilometer.\n",
    "\n",
    "Abbreviation: Abbreviation or code representing the country.\n",
    "\n",
    "Agricultural Land (%): Percentage of land area used for agricultural purposes.\n",
    "\n",
    "Land Area (Km2): Total land area of the country in square kilometers.\n",
    "\n",
    "Armed Forces Size: Size of the armed forces in the country.\n",
    "\n",
    "Birth Rate: Number of births per 1,000 population per year.\n",
    "\n",
    "Calling Code: International calling code for the country.\n",
    "\n",
    "Capital/Major City: Name of the capital or major city.\n",
    "\n",
    "CO2 Emissions: Carbon dioxide emissions in tons.\n",
    "\n",
    "CPI: Consumer Price Index, a measure of inflation and purchasing power.\n",
    "\n",
    "CPI Change (%): Percentage change in the Consumer Price Index compared to the previous year.\n",
    "\n",
    "Currency_Code: Currency code used in the country.\n",
    "\n",
    "Fertility Rate: Average number of children born to a woman during her lifetime.\n",
    "\n",
    "Forested Area (%): Percentage of land area covered by forests.\n",
    "\n",
    "Gasoline_Price: Price of gasoline per liter in local currency.\n",
    "\n",
    "GDP: Gross Domestic Product, the total value of goods and services produced in the country.\n",
    "\n",
    "Gross Primary Education Enrollment (%): Gross enrollment ratio for primary education.\n",
    "\n",
    "Gross Tertiary Education Enrollment (%): Gross enrollment ratio for tertiary education.\n",
    "\n",
    "Infant Mortality: Number of deaths per 1,000 live births before reaching one year of age.\n",
    "\n",
    "Largest City: Name of the country's largest city.\n",
    "\n",
    "Life Expectancy: Average number of years a newborn is expected to live.\n",
    "\n",
    "Maternal Mortality Ratio: Number of maternal deaths per 100,000 live births.\n",
    "\n",
    "Minimum Wage: Minimum wage level in local currency.\n",
    "\n",
    "Official Language: Official language(s) spoken in the country.\n",
    "\n",
    "Out of Pocket Health Expenditure (%): Percentage of total health expenditure paid out-of-pocket by individuals.\n",
    "\n",
    "Physicians per Thousand: Number of physicians per thousand people.\n",
    "\n",
    "Population: Total population of the country.\n",
    "\n",
    "Population: Labor Force Participation (%): Percentage of the population that is part of the labor force.\n",
    "\n",
    "Tax Revenue (%): Tax revenue as a percentage of GDP.\n",
    "\n",
    "Total Tax Rate: Overall tax burden as a percentage of commercial profits.\n",
    "\n",
    "Unemployment Rate: Percentage of the labor force that is unemployed.\n",
    "\n",
    "Urban Population: Percentage of the population living in urban areas.\n",
    "\n",
    "Latitude: Latitude coordinate of the country's location.\n",
    "\n",
    "Longitude: Longitude coordinate of the country's location."
   ]
  },
  {
   "cell_type": "markdown",
   "id": "fcd1d011-d111-4a3f-9da0-f434e3e39266",
   "metadata": {
    "jp-MarkdownHeadingCollapsed": true,
    "tags": []
   },
   "source": [
    "## Import Libraries"
   ]
  },
  {
   "cell_type": "code",
   "execution_count": 2166,
   "id": "61c6694a-2c8f-44f7-a53a-aeddaac343ba",
   "metadata": {},
   "outputs": [],
   "source": [
    "import pandas as pd\n",
    "import matplotlib.pyplot as plt\n",
    "import seaborn as sns\n",
    "import os"
   ]
  },
  {
   "cell_type": "markdown",
   "id": "ca9f9bf2-dc32-46e7-8d63-2861e78f86e1",
   "metadata": {
    "tags": []
   },
   "source": [
    "## Data loading"
   ]
  },
  {
   "cell_type": "markdown",
   "id": "e21b1fb8-13fb-4bda-887f-e54a5b87e79f",
   "metadata": {
    "jp-MarkdownHeadingCollapsed": true,
    "tags": []
   },
   "source": [
    "### Load The \"Latest Data Science Salaries\" Data"
   ]
  },
  {
   "cell_type": "code",
   "execution_count": 2169,
   "id": "72d0b592-9e13-4a1f-9efa-1c2cf069214c",
   "metadata": {
    "tags": []
   },
   "outputs": [],
   "source": [
    "salaries_Part1 = pd.read_csv('/Users/juliabolgova/Documents/GitHub/f/Capstone_IuliiaBolgova/CapstoneProject/data/external/Latest_Data_Science_Salaries.csv')"
   ]
  },
  {
   "cell_type": "code",
   "execution_count": 2170,
   "id": "a41065ac-4400-4cce-a156-d11a496b1477",
   "metadata": {
    "tags": []
   },
   "outputs": [],
   "source": [
    "salaries_Part2 = pd.read_csv('/Users/juliabolgova/Documents/GitHub/f/Capstone_IuliiaBolgova/CapstoneProject/data/external/v2_Latest_Data_Science_Salaries.csv')"
   ]
  },
  {
   "cell_type": "code",
   "execution_count": 2171,
   "id": "c9e85f66-9410-434d-9dbb-19ca88636783",
   "metadata": {
    "tags": []
   },
   "outputs": [],
   "source": [
    "salaries_Part3 = pd.read_csv('/Users/juliabolgova/Documents/GitHub/f/Capstone_IuliiaBolgova/CapstoneProject/data/external/v3_Latest_Data_Science_Salaries.csv')"
   ]
  },
  {
   "cell_type": "code",
   "execution_count": 2172,
   "id": "a5c7026e-50af-4d7d-bb28-1824ec333532",
   "metadata": {
    "tags": []
   },
   "outputs": [],
   "source": [
    "salaries_Part4 = pd.read_csv('/Users/juliabolgova/Documents/GitHub/f/Capstone_IuliiaBolgova/CapstoneProject/data/external/v4_Latest_Data_Science_Salaries.csv')"
   ]
  },
  {
   "cell_type": "code",
   "execution_count": 2173,
   "id": "673d8336-9db4-459c-b51e-533095ebead7",
   "metadata": {
    "tags": []
   },
   "outputs": [],
   "source": [
    "salaries_Part5 = pd.read_csv('/Users/juliabolgova/Documents/GitHub/f/Capstone_IuliiaBolgova/CapstoneProject/data/external/v5_Latest_Data_Science_Salaries.csv')"
   ]
  },
  {
   "cell_type": "code",
   "execution_count": 2174,
   "id": "4a44bb18-0fe7-433b-b719-155e01c7e1b9",
   "metadata": {
    "tags": []
   },
   "outputs": [],
   "source": [
    "salaries_Part6 = pd.read_csv('/Users/juliabolgova/Documents/GitHub/f/Capstone_IuliiaBolgova/CapstoneProject/data/external/v6_Latest_Data_Science_Salaries.csv')"
   ]
  },
  {
   "cell_type": "code",
   "execution_count": 2175,
   "id": "ac409c54-9d93-4a45-8161-2c5b9a46b251",
   "metadata": {
    "tags": []
   },
   "outputs": [],
   "source": [
    "salaries_Part7 = pd.read_csv('/Users/juliabolgova/Documents/GitHub/f/Capstone_IuliiaBolgova/CapstoneProject/data/external/v7_Latest_Data_Science_Salaries.csv')"
   ]
  },
  {
   "cell_type": "markdown",
   "id": "0cc5945e-ab1a-4f76-b3b6-8928f955c9e8",
   "metadata": {
    "jp-MarkdownHeadingCollapsed": true,
    "tags": []
   },
   "source": [
    "### Load Global Country Information Dataset 2023"
   ]
  },
  {
   "cell_type": "code",
   "execution_count": 2177,
   "id": "d6e2e4cb-91a4-470d-9e66-427388838853",
   "metadata": {
    "tags": []
   },
   "outputs": [],
   "source": [
    "world_info = pd.read_csv('/Users/juliabolgova/Documents/GitHub/f/Capstone_IuliiaBolgova/CapstoneProject/data/external/world-data-2023.csv')"
   ]
  },
  {
   "cell_type": "markdown",
   "id": "dd2cfcbe-b954-477c-ba50-eaefcb21be50",
   "metadata": {
    "tags": []
   },
   "source": [
    "## Data joining"
   ]
  },
  {
   "cell_type": "markdown",
   "id": "410e5708-19d8-44d0-b1a7-f71dc9e46426",
   "metadata": {
    "tags": []
   },
   "source": [
    "### Look at The \"Latest Data Science Salaries\" Data Structure and combine datasets into one"
   ]
  },
  {
   "cell_type": "code",
   "execution_count": 2180,
   "id": "095748d7-fb70-41d5-943f-ec924ecbdee6",
   "metadata": {
    "tags": []
   },
   "outputs": [
    {
     "name": "stdout",
     "output_type": "stream",
     "text": [
      "<class 'pandas.core.frame.DataFrame'>\n",
      "RangeIndex: 3300 entries, 0 to 3299\n",
      "Data columns (total 11 columns):\n",
      " #   Column              Non-Null Count  Dtype \n",
      "---  ------              --------------  ----- \n",
      " 0   Job Title           3300 non-null   object\n",
      " 1   Employment Type     3300 non-null   object\n",
      " 2   Experience Level    3300 non-null   object\n",
      " 3   Expertise Level     3300 non-null   object\n",
      " 4   Salary              3300 non-null   int64 \n",
      " 5   Salary Currency     3300 non-null   object\n",
      " 6   Company Location    3300 non-null   object\n",
      " 7   Salary in USD       3300 non-null   int64 \n",
      " 8   Employee Residence  3300 non-null   object\n",
      " 9   Company Size        3300 non-null   object\n",
      " 10  Year                3300 non-null   int64 \n",
      "dtypes: int64(3), object(8)\n",
      "memory usage: 283.7+ KB\n"
     ]
    }
   ],
   "source": [
    "salaries_Part1.info()"
   ]
  },
  {
   "cell_type": "code",
   "execution_count": 2181,
   "id": "8e38853a-27bb-43df-9170-802448b3ad2a",
   "metadata": {
    "tags": []
   },
   "outputs": [
    {
     "name": "stdout",
     "output_type": "stream",
     "text": [
      "<class 'pandas.core.frame.DataFrame'>\n",
      "RangeIndex: 3470 entries, 0 to 3469\n",
      "Data columns (total 11 columns):\n",
      " #   Column              Non-Null Count  Dtype \n",
      "---  ------              --------------  ----- \n",
      " 0   Job Title           3470 non-null   object\n",
      " 1   Employment Type     3470 non-null   object\n",
      " 2   Experience Level    3470 non-null   object\n",
      " 3   Expertise Level     3470 non-null   object\n",
      " 4   Salary              3470 non-null   int64 \n",
      " 5   Salary Currency     3470 non-null   object\n",
      " 6   Company Location    3470 non-null   object\n",
      " 7   Salary in USD       3470 non-null   int64 \n",
      " 8   Employee Residence  3470 non-null   object\n",
      " 9   Company Size        3470 non-null   object\n",
      " 10  Year                3470 non-null   int64 \n",
      "dtypes: int64(3), object(8)\n",
      "memory usage: 298.3+ KB\n"
     ]
    }
   ],
   "source": [
    "salaries_Part2.info()"
   ]
  },
  {
   "cell_type": "markdown",
   "id": "7f3d7285-884f-47e3-8be0-2a20cfd8f331",
   "metadata": {},
   "source": [
    "The tables have the same structure"
   ]
  },
  {
   "cell_type": "markdown",
   "id": "f1300bbb-0dd2-441a-acfe-e0810102add7",
   "metadata": {
    "tags": []
   },
   "source": [
    "### Combine all CSV files using concat()"
   ]
  },
  {
   "cell_type": "code",
   "execution_count": 2184,
   "id": "378174d1-1909-4149-aeaf-0ca732e001a2",
   "metadata": {
    "tags": []
   },
   "outputs": [],
   "source": [
    "salaries = pd.concat([salaries_Part1, salaries_Part2, salaries_Part3, salaries_Part4, salaries_Part5, salaries_Part6, salaries_Part7], axis=0)"
   ]
  },
  {
   "cell_type": "code",
   "execution_count": 2185,
   "id": "d2e3461c-060f-439c-aed9-16b3463ba73e",
   "metadata": {
    "tags": []
   },
   "outputs": [
    {
     "name": "stdout",
     "output_type": "stream",
     "text": [
      "<class 'pandas.core.frame.DataFrame'>\n",
      "Index: 28668 entries, 0 to 5735\n",
      "Data columns (total 11 columns):\n",
      " #   Column              Non-Null Count  Dtype \n",
      "---  ------              --------------  ----- \n",
      " 0   Job Title           28668 non-null  object\n",
      " 1   Employment Type     28668 non-null  object\n",
      " 2   Experience Level    28668 non-null  object\n",
      " 3   Expertise Level     28668 non-null  object\n",
      " 4   Salary              28668 non-null  int64 \n",
      " 5   Salary Currency     28668 non-null  object\n",
      " 6   Company Location    28668 non-null  object\n",
      " 7   Salary in USD       28668 non-null  int64 \n",
      " 8   Employee Residence  28668 non-null  object\n",
      " 9   Company Size        28668 non-null  object\n",
      " 10  Year                28668 non-null  int64 \n",
      "dtypes: int64(3), object(8)\n",
      "memory usage: 2.6+ MB\n"
     ]
    }
   ],
   "source": [
    "salaries.info()"
   ]
  },
  {
   "cell_type": "code",
   "execution_count": 2186,
   "id": "0f46a39a-aa0d-4bc7-a803-8705c43f61c8",
   "metadata": {
    "tags": []
   },
   "outputs": [
    {
     "data": {
      "text/html": [
       "<div>\n",
       "<style scoped>\n",
       "    .dataframe tbody tr th:only-of-type {\n",
       "        vertical-align: middle;\n",
       "    }\n",
       "\n",
       "    .dataframe tbody tr th {\n",
       "        vertical-align: top;\n",
       "    }\n",
       "\n",
       "    .dataframe thead th {\n",
       "        text-align: right;\n",
       "    }\n",
       "</style>\n",
       "<table border=\"1\" class=\"dataframe\">\n",
       "  <thead>\n",
       "    <tr style=\"text-align: right;\">\n",
       "      <th></th>\n",
       "      <th>Job Title</th>\n",
       "      <th>Employment Type</th>\n",
       "      <th>Experience Level</th>\n",
       "      <th>Expertise Level</th>\n",
       "      <th>Salary</th>\n",
       "      <th>Salary Currency</th>\n",
       "      <th>Company Location</th>\n",
       "      <th>Salary in USD</th>\n",
       "      <th>Employee Residence</th>\n",
       "      <th>Company Size</th>\n",
       "      <th>Year</th>\n",
       "    </tr>\n",
       "  </thead>\n",
       "  <tbody>\n",
       "    <tr>\n",
       "      <th>0</th>\n",
       "      <td>Data Engineer</td>\n",
       "      <td>Full-Time</td>\n",
       "      <td>Senior</td>\n",
       "      <td>Expert</td>\n",
       "      <td>210000</td>\n",
       "      <td>United States Dollar</td>\n",
       "      <td>United States</td>\n",
       "      <td>210000</td>\n",
       "      <td>United States</td>\n",
       "      <td>Medium</td>\n",
       "      <td>2023</td>\n",
       "    </tr>\n",
       "    <tr>\n",
       "      <th>1</th>\n",
       "      <td>Data Engineer</td>\n",
       "      <td>Full-Time</td>\n",
       "      <td>Senior</td>\n",
       "      <td>Expert</td>\n",
       "      <td>165000</td>\n",
       "      <td>United States Dollar</td>\n",
       "      <td>United States</td>\n",
       "      <td>165000</td>\n",
       "      <td>United States</td>\n",
       "      <td>Medium</td>\n",
       "      <td>2023</td>\n",
       "    </tr>\n",
       "    <tr>\n",
       "      <th>2</th>\n",
       "      <td>Data Engineer</td>\n",
       "      <td>Full-Time</td>\n",
       "      <td>Senior</td>\n",
       "      <td>Expert</td>\n",
       "      <td>185900</td>\n",
       "      <td>United States Dollar</td>\n",
       "      <td>United States</td>\n",
       "      <td>185900</td>\n",
       "      <td>United States</td>\n",
       "      <td>Medium</td>\n",
       "      <td>2023</td>\n",
       "    </tr>\n",
       "    <tr>\n",
       "      <th>3</th>\n",
       "      <td>Data Engineer</td>\n",
       "      <td>Full-Time</td>\n",
       "      <td>Senior</td>\n",
       "      <td>Expert</td>\n",
       "      <td>129300</td>\n",
       "      <td>United States Dollar</td>\n",
       "      <td>United States</td>\n",
       "      <td>129300</td>\n",
       "      <td>United States</td>\n",
       "      <td>Medium</td>\n",
       "      <td>2023</td>\n",
       "    </tr>\n",
       "    <tr>\n",
       "      <th>4</th>\n",
       "      <td>Data Scientist</td>\n",
       "      <td>Full-Time</td>\n",
       "      <td>Senior</td>\n",
       "      <td>Expert</td>\n",
       "      <td>140000</td>\n",
       "      <td>United States Dollar</td>\n",
       "      <td>United States</td>\n",
       "      <td>140000</td>\n",
       "      <td>United States</td>\n",
       "      <td>Medium</td>\n",
       "      <td>2023</td>\n",
       "    </tr>\n",
       "  </tbody>\n",
       "</table>\n",
       "</div>"
      ],
      "text/plain": [
       "        Job Title Employment Type Experience Level Expertise Level  Salary  \\\n",
       "0   Data Engineer       Full-Time           Senior          Expert  210000   \n",
       "1   Data Engineer       Full-Time           Senior          Expert  165000   \n",
       "2   Data Engineer       Full-Time           Senior          Expert  185900   \n",
       "3   Data Engineer       Full-Time           Senior          Expert  129300   \n",
       "4  Data Scientist       Full-Time           Senior          Expert  140000   \n",
       "\n",
       "        Salary Currency Company Location  Salary in USD Employee Residence  \\\n",
       "0  United States Dollar    United States         210000      United States   \n",
       "1  United States Dollar    United States         165000      United States   \n",
       "2  United States Dollar    United States         185900      United States   \n",
       "3  United States Dollar    United States         129300      United States   \n",
       "4  United States Dollar    United States         140000      United States   \n",
       "\n",
       "  Company Size  Year  \n",
       "0       Medium  2023  \n",
       "1       Medium  2023  \n",
       "2       Medium  2023  \n",
       "3       Medium  2023  \n",
       "4       Medium  2023  "
      ]
     },
     "execution_count": 2186,
     "metadata": {},
     "output_type": "execute_result"
    }
   ],
   "source": [
    "salaries.head()"
   ]
  },
  {
   "cell_type": "markdown",
   "id": "ea67292d-341a-4ca3-a556-f685e6dcfc02",
   "metadata": {
    "tags": []
   },
   "source": [
    "## Data Definition"
   ]
  },
  {
   "cell_type": "markdown",
   "id": "382a0cbf-619c-4013-bef9-6791cdfa38b3",
   "metadata": {
    "tags": []
   },
   "source": [
    "### Look at The Global Country Information Dataset 2023"
   ]
  },
  {
   "cell_type": "code",
   "execution_count": 2189,
   "id": "d570eab4-4b91-4738-b728-35b77ead23df",
   "metadata": {
    "tags": []
   },
   "outputs": [],
   "source": [
    "pd.set_option('display.max_columns', None)"
   ]
  },
  {
   "cell_type": "code",
   "execution_count": 2190,
   "id": "618be17a-e806-4624-9f8a-74d007ac7788",
   "metadata": {
    "tags": []
   },
   "outputs": [
    {
     "data": {
      "text/html": [
       "<div>\n",
       "<style scoped>\n",
       "    .dataframe tbody tr th:only-of-type {\n",
       "        vertical-align: middle;\n",
       "    }\n",
       "\n",
       "    .dataframe tbody tr th {\n",
       "        vertical-align: top;\n",
       "    }\n",
       "\n",
       "    .dataframe thead th {\n",
       "        text-align: right;\n",
       "    }\n",
       "</style>\n",
       "<table border=\"1\" class=\"dataframe\">\n",
       "  <thead>\n",
       "    <tr style=\"text-align: right;\">\n",
       "      <th></th>\n",
       "      <th>Country</th>\n",
       "      <th>Density\\n(P/Km2)</th>\n",
       "      <th>Abbreviation</th>\n",
       "      <th>Agricultural Land( %)</th>\n",
       "      <th>Land Area(Km2)</th>\n",
       "      <th>Armed Forces size</th>\n",
       "      <th>Birth Rate</th>\n",
       "      <th>Calling Code</th>\n",
       "      <th>Capital/Major City</th>\n",
       "      <th>Co2-Emissions</th>\n",
       "      <th>CPI</th>\n",
       "      <th>CPI Change (%)</th>\n",
       "      <th>Currency-Code</th>\n",
       "      <th>Fertility Rate</th>\n",
       "      <th>Forested Area (%)</th>\n",
       "      <th>Gasoline Price</th>\n",
       "      <th>GDP</th>\n",
       "      <th>Gross primary education enrollment (%)</th>\n",
       "      <th>Gross tertiary education enrollment (%)</th>\n",
       "      <th>Infant mortality</th>\n",
       "      <th>Largest city</th>\n",
       "      <th>Life expectancy</th>\n",
       "      <th>Maternal mortality ratio</th>\n",
       "      <th>Minimum wage</th>\n",
       "      <th>Official language</th>\n",
       "      <th>Out of pocket health expenditure</th>\n",
       "      <th>Physicians per thousand</th>\n",
       "      <th>Population</th>\n",
       "      <th>Population: Labor force participation (%)</th>\n",
       "      <th>Tax revenue (%)</th>\n",
       "      <th>Total tax rate</th>\n",
       "      <th>Unemployment rate</th>\n",
       "      <th>Urban_population</th>\n",
       "      <th>Latitude</th>\n",
       "      <th>Longitude</th>\n",
       "    </tr>\n",
       "  </thead>\n",
       "  <tbody>\n",
       "    <tr>\n",
       "      <th>0</th>\n",
       "      <td>Afghanistan</td>\n",
       "      <td>60</td>\n",
       "      <td>AF</td>\n",
       "      <td>58.10%</td>\n",
       "      <td>652,230</td>\n",
       "      <td>323,000</td>\n",
       "      <td>32.49</td>\n",
       "      <td>93.0</td>\n",
       "      <td>Kabul</td>\n",
       "      <td>8,672</td>\n",
       "      <td>149.9</td>\n",
       "      <td>2.30%</td>\n",
       "      <td>AFN</td>\n",
       "      <td>4.47</td>\n",
       "      <td>2.10%</td>\n",
       "      <td>$0.70</td>\n",
       "      <td>$19,101,353,833</td>\n",
       "      <td>104.00%</td>\n",
       "      <td>9.70%</td>\n",
       "      <td>47.9</td>\n",
       "      <td>Kabul</td>\n",
       "      <td>64.5</td>\n",
       "      <td>638.0</td>\n",
       "      <td>$0.43</td>\n",
       "      <td>Pashto</td>\n",
       "      <td>78.40%</td>\n",
       "      <td>0.28</td>\n",
       "      <td>38,041,754</td>\n",
       "      <td>48.90%</td>\n",
       "      <td>9.30%</td>\n",
       "      <td>71.40%</td>\n",
       "      <td>11.12%</td>\n",
       "      <td>9,797,273</td>\n",
       "      <td>33.939110</td>\n",
       "      <td>67.709953</td>\n",
       "    </tr>\n",
       "    <tr>\n",
       "      <th>1</th>\n",
       "      <td>Albania</td>\n",
       "      <td>105</td>\n",
       "      <td>AL</td>\n",
       "      <td>43.10%</td>\n",
       "      <td>28,748</td>\n",
       "      <td>9,000</td>\n",
       "      <td>11.78</td>\n",
       "      <td>355.0</td>\n",
       "      <td>Tirana</td>\n",
       "      <td>4,536</td>\n",
       "      <td>119.05</td>\n",
       "      <td>1.40%</td>\n",
       "      <td>ALL</td>\n",
       "      <td>1.62</td>\n",
       "      <td>28.10%</td>\n",
       "      <td>$1.36</td>\n",
       "      <td>$15,278,077,447</td>\n",
       "      <td>107.00%</td>\n",
       "      <td>55.00%</td>\n",
       "      <td>7.8</td>\n",
       "      <td>Tirana</td>\n",
       "      <td>78.5</td>\n",
       "      <td>15.0</td>\n",
       "      <td>$1.12</td>\n",
       "      <td>Albanian</td>\n",
       "      <td>56.90%</td>\n",
       "      <td>1.20</td>\n",
       "      <td>2,854,191</td>\n",
       "      <td>55.70%</td>\n",
       "      <td>18.60%</td>\n",
       "      <td>36.60%</td>\n",
       "      <td>12.33%</td>\n",
       "      <td>1,747,593</td>\n",
       "      <td>41.153332</td>\n",
       "      <td>20.168331</td>\n",
       "    </tr>\n",
       "    <tr>\n",
       "      <th>2</th>\n",
       "      <td>Algeria</td>\n",
       "      <td>18</td>\n",
       "      <td>DZ</td>\n",
       "      <td>17.40%</td>\n",
       "      <td>2,381,741</td>\n",
       "      <td>317,000</td>\n",
       "      <td>24.28</td>\n",
       "      <td>213.0</td>\n",
       "      <td>Algiers</td>\n",
       "      <td>150,006</td>\n",
       "      <td>151.36</td>\n",
       "      <td>2.00%</td>\n",
       "      <td>DZD</td>\n",
       "      <td>3.02</td>\n",
       "      <td>0.80%</td>\n",
       "      <td>$0.28</td>\n",
       "      <td>$169,988,236,398</td>\n",
       "      <td>109.90%</td>\n",
       "      <td>51.40%</td>\n",
       "      <td>20.1</td>\n",
       "      <td>Algiers</td>\n",
       "      <td>76.7</td>\n",
       "      <td>112.0</td>\n",
       "      <td>$0.95</td>\n",
       "      <td>Arabic</td>\n",
       "      <td>28.10%</td>\n",
       "      <td>1.72</td>\n",
       "      <td>43,053,054</td>\n",
       "      <td>41.20%</td>\n",
       "      <td>37.20%</td>\n",
       "      <td>66.10%</td>\n",
       "      <td>11.70%</td>\n",
       "      <td>31,510,100</td>\n",
       "      <td>28.033886</td>\n",
       "      <td>1.659626</td>\n",
       "    </tr>\n",
       "    <tr>\n",
       "      <th>3</th>\n",
       "      <td>Andorra</td>\n",
       "      <td>164</td>\n",
       "      <td>AD</td>\n",
       "      <td>40.00%</td>\n",
       "      <td>468</td>\n",
       "      <td>NaN</td>\n",
       "      <td>7.20</td>\n",
       "      <td>376.0</td>\n",
       "      <td>Andorra la Vella</td>\n",
       "      <td>469</td>\n",
       "      <td>NaN</td>\n",
       "      <td>NaN</td>\n",
       "      <td>EUR</td>\n",
       "      <td>1.27</td>\n",
       "      <td>34.00%</td>\n",
       "      <td>$1.51</td>\n",
       "      <td>$3,154,057,987</td>\n",
       "      <td>106.40%</td>\n",
       "      <td>NaN</td>\n",
       "      <td>2.7</td>\n",
       "      <td>Andorra la Vella</td>\n",
       "      <td>NaN</td>\n",
       "      <td>NaN</td>\n",
       "      <td>$6.63</td>\n",
       "      <td>Catalan</td>\n",
       "      <td>36.40%</td>\n",
       "      <td>3.33</td>\n",
       "      <td>77,142</td>\n",
       "      <td>NaN</td>\n",
       "      <td>NaN</td>\n",
       "      <td>NaN</td>\n",
       "      <td>NaN</td>\n",
       "      <td>67,873</td>\n",
       "      <td>42.506285</td>\n",
       "      <td>1.521801</td>\n",
       "    </tr>\n",
       "    <tr>\n",
       "      <th>4</th>\n",
       "      <td>Angola</td>\n",
       "      <td>26</td>\n",
       "      <td>AO</td>\n",
       "      <td>47.50%</td>\n",
       "      <td>1,246,700</td>\n",
       "      <td>117,000</td>\n",
       "      <td>40.73</td>\n",
       "      <td>244.0</td>\n",
       "      <td>Luanda</td>\n",
       "      <td>34,693</td>\n",
       "      <td>261.73</td>\n",
       "      <td>17.10%</td>\n",
       "      <td>AOA</td>\n",
       "      <td>5.52</td>\n",
       "      <td>46.30%</td>\n",
       "      <td>$0.97</td>\n",
       "      <td>$94,635,415,870</td>\n",
       "      <td>113.50%</td>\n",
       "      <td>9.30%</td>\n",
       "      <td>51.6</td>\n",
       "      <td>Luanda</td>\n",
       "      <td>60.8</td>\n",
       "      <td>241.0</td>\n",
       "      <td>$0.71</td>\n",
       "      <td>Portuguese</td>\n",
       "      <td>33.40%</td>\n",
       "      <td>0.21</td>\n",
       "      <td>31,825,295</td>\n",
       "      <td>77.50%</td>\n",
       "      <td>9.20%</td>\n",
       "      <td>49.10%</td>\n",
       "      <td>6.89%</td>\n",
       "      <td>21,061,025</td>\n",
       "      <td>-11.202692</td>\n",
       "      <td>17.873887</td>\n",
       "    </tr>\n",
       "  </tbody>\n",
       "</table>\n",
       "</div>"
      ],
      "text/plain": [
       "       Country Density\\n(P/Km2) Abbreviation Agricultural Land( %)  \\\n",
       "0  Afghanistan               60           AF                58.10%   \n",
       "1      Albania              105           AL                43.10%   \n",
       "2      Algeria               18           DZ                17.40%   \n",
       "3      Andorra              164           AD                40.00%   \n",
       "4       Angola               26           AO                47.50%   \n",
       "\n",
       "  Land Area(Km2) Armed Forces size  Birth Rate  Calling Code  \\\n",
       "0        652,230           323,000       32.49          93.0   \n",
       "1         28,748             9,000       11.78         355.0   \n",
       "2      2,381,741           317,000       24.28         213.0   \n",
       "3            468               NaN        7.20         376.0   \n",
       "4      1,246,700           117,000       40.73         244.0   \n",
       "\n",
       "  Capital/Major City Co2-Emissions     CPI CPI Change (%) Currency-Code  \\\n",
       "0              Kabul         8,672   149.9          2.30%           AFN   \n",
       "1             Tirana         4,536  119.05          1.40%           ALL   \n",
       "2            Algiers       150,006  151.36          2.00%           DZD   \n",
       "3   Andorra la Vella           469     NaN            NaN           EUR   \n",
       "4             Luanda        34,693  261.73         17.10%           AOA   \n",
       "\n",
       "   Fertility Rate Forested Area (%) Gasoline Price                GDP  \\\n",
       "0            4.47             2.10%         $0.70    $19,101,353,833    \n",
       "1            1.62            28.10%         $1.36    $15,278,077,447    \n",
       "2            3.02             0.80%         $0.28   $169,988,236,398    \n",
       "3            1.27            34.00%         $1.51     $3,154,057,987    \n",
       "4            5.52            46.30%         $0.97    $94,635,415,870    \n",
       "\n",
       "  Gross primary education enrollment (%)  \\\n",
       "0                                104.00%   \n",
       "1                                107.00%   \n",
       "2                                109.90%   \n",
       "3                                106.40%   \n",
       "4                                113.50%   \n",
       "\n",
       "  Gross tertiary education enrollment (%)  Infant mortality      Largest city  \\\n",
       "0                                   9.70%              47.9             Kabul   \n",
       "1                                  55.00%               7.8            Tirana   \n",
       "2                                  51.40%              20.1           Algiers   \n",
       "3                                     NaN               2.7  Andorra la Vella   \n",
       "4                                   9.30%              51.6            Luanda   \n",
       "\n",
       "   Life expectancy  Maternal mortality ratio Minimum wage Official language  \\\n",
       "0             64.5                     638.0       $0.43             Pashto   \n",
       "1             78.5                      15.0       $1.12           Albanian   \n",
       "2             76.7                     112.0       $0.95             Arabic   \n",
       "3              NaN                       NaN       $6.63            Catalan   \n",
       "4             60.8                     241.0       $0.71         Portuguese   \n",
       "\n",
       "  Out of pocket health expenditure  Physicians per thousand  Population  \\\n",
       "0                           78.40%                     0.28  38,041,754   \n",
       "1                           56.90%                     1.20   2,854,191   \n",
       "2                           28.10%                     1.72  43,053,054   \n",
       "3                           36.40%                     3.33      77,142   \n",
       "4                           33.40%                     0.21  31,825,295   \n",
       "\n",
       "  Population: Labor force participation (%) Tax revenue (%) Total tax rate  \\\n",
       "0                                    48.90%           9.30%         71.40%   \n",
       "1                                    55.70%          18.60%         36.60%   \n",
       "2                                    41.20%          37.20%         66.10%   \n",
       "3                                       NaN             NaN            NaN   \n",
       "4                                    77.50%           9.20%         49.10%   \n",
       "\n",
       "  Unemployment rate Urban_population   Latitude  Longitude  \n",
       "0            11.12%        9,797,273  33.939110  67.709953  \n",
       "1            12.33%        1,747,593  41.153332  20.168331  \n",
       "2            11.70%       31,510,100  28.033886   1.659626  \n",
       "3               NaN           67,873  42.506285   1.521801  \n",
       "4             6.89%       21,061,025 -11.202692  17.873887  "
      ]
     },
     "execution_count": 2190,
     "metadata": {},
     "output_type": "execute_result"
    }
   ],
   "source": [
    "world_info.head()"
   ]
  },
  {
   "cell_type": "code",
   "execution_count": 2191,
   "id": "f89a637f-5b8f-4f23-bd15-7c8a2350c52c",
   "metadata": {
    "tags": []
   },
   "outputs": [],
   "source": [
    "columns_to_clean = {\n",
    "    'Urban_population': ',',\n",
    "    'Population': ',',\n",
    "    'Density\\n(P/Km2)': ',',\n",
    "    'Agricultural Land( %)': '%',\n",
    "    'Land Area(Km2)': ',',\n",
    "    'Armed Forces size': ',',\n",
    "    'Co2-Emissions': ',',\n",
    "    'Out of pocket health expenditure': '%',\n",
    "    'Population: Labor force participation (%)': '%',\n",
    "    'Tax revenue (%)': '%',\n",
    "    'Total tax rate': '%',\n",
    "    'Unemployment rate': '%',\n",
    "    'CPI Change (%)': '%',\n",
    "    'Gasoline Price': '$',\n",
    "    'Forested Area (%)': '%',\n",
    "    'GDP': [',', '$'],  # 2 symbols\n",
    "    'Gross primary education enrollment (%)': '%',\n",
    "    'Gross tertiary education enrollment (%)': '%',\n",
    "    'Minimum wage': '$'\n",
    "}"
   ]
  },
  {
   "cell_type": "code",
   "execution_count": 2192,
   "id": "613faa63-b3bc-4270-a6c2-924858239bd5",
   "metadata": {
    "tags": []
   },
   "outputs": [],
   "source": [
    "for column, chars in columns_to_clean.items():\n",
    "    if isinstance(chars, list):  \n",
    "        for char in chars:\n",
    "            world_info[column] = world_info[column].str.replace(char, '')\n",
    "    else:\n",
    "        world_info[column] = world_info[column].str.replace(chars, '')"
   ]
  },
  {
   "cell_type": "code",
   "execution_count": 2193,
   "id": "8ac05cfe-f943-431f-819e-f821f6af12fb",
   "metadata": {
    "tags": []
   },
   "outputs": [
    {
     "data": {
      "text/html": [
       "<div>\n",
       "<style scoped>\n",
       "    .dataframe tbody tr th:only-of-type {\n",
       "        vertical-align: middle;\n",
       "    }\n",
       "\n",
       "    .dataframe tbody tr th {\n",
       "        vertical-align: top;\n",
       "    }\n",
       "\n",
       "    .dataframe thead th {\n",
       "        text-align: right;\n",
       "    }\n",
       "</style>\n",
       "<table border=\"1\" class=\"dataframe\">\n",
       "  <thead>\n",
       "    <tr style=\"text-align: right;\">\n",
       "      <th></th>\n",
       "      <th>Country</th>\n",
       "      <th>Density\\n(P/Km2)</th>\n",
       "      <th>Abbreviation</th>\n",
       "      <th>Agricultural Land( %)</th>\n",
       "      <th>Land Area(Km2)</th>\n",
       "      <th>Armed Forces size</th>\n",
       "      <th>Birth Rate</th>\n",
       "      <th>Calling Code</th>\n",
       "      <th>Capital/Major City</th>\n",
       "      <th>Co2-Emissions</th>\n",
       "      <th>CPI</th>\n",
       "      <th>CPI Change (%)</th>\n",
       "      <th>Currency-Code</th>\n",
       "      <th>Fertility Rate</th>\n",
       "      <th>Forested Area (%)</th>\n",
       "      <th>Gasoline Price</th>\n",
       "      <th>GDP</th>\n",
       "      <th>Gross primary education enrollment (%)</th>\n",
       "      <th>Gross tertiary education enrollment (%)</th>\n",
       "      <th>Infant mortality</th>\n",
       "      <th>Largest city</th>\n",
       "      <th>Life expectancy</th>\n",
       "      <th>Maternal mortality ratio</th>\n",
       "      <th>Minimum wage</th>\n",
       "      <th>Official language</th>\n",
       "      <th>Out of pocket health expenditure</th>\n",
       "      <th>Physicians per thousand</th>\n",
       "      <th>Population</th>\n",
       "      <th>Population: Labor force participation (%)</th>\n",
       "      <th>Tax revenue (%)</th>\n",
       "      <th>Total tax rate</th>\n",
       "      <th>Unemployment rate</th>\n",
       "      <th>Urban_population</th>\n",
       "      <th>Latitude</th>\n",
       "      <th>Longitude</th>\n",
       "    </tr>\n",
       "  </thead>\n",
       "  <tbody>\n",
       "    <tr>\n",
       "      <th>0</th>\n",
       "      <td>Afghanistan</td>\n",
       "      <td>60</td>\n",
       "      <td>AF</td>\n",
       "      <td>58.10</td>\n",
       "      <td>652230</td>\n",
       "      <td>323000</td>\n",
       "      <td>32.49</td>\n",
       "      <td>93.0</td>\n",
       "      <td>Kabul</td>\n",
       "      <td>8672</td>\n",
       "      <td>149.9</td>\n",
       "      <td>2.30</td>\n",
       "      <td>AFN</td>\n",
       "      <td>4.47</td>\n",
       "      <td>2.10</td>\n",
       "      <td>0.70</td>\n",
       "      <td>19101353833</td>\n",
       "      <td>104.00</td>\n",
       "      <td>9.70</td>\n",
       "      <td>47.9</td>\n",
       "      <td>Kabul</td>\n",
       "      <td>64.5</td>\n",
       "      <td>638.0</td>\n",
       "      <td>0.43</td>\n",
       "      <td>Pashto</td>\n",
       "      <td>78.40</td>\n",
       "      <td>0.28</td>\n",
       "      <td>38041754</td>\n",
       "      <td>48.90</td>\n",
       "      <td>9.30</td>\n",
       "      <td>71.40</td>\n",
       "      <td>11.12</td>\n",
       "      <td>9797273</td>\n",
       "      <td>33.939110</td>\n",
       "      <td>67.709953</td>\n",
       "    </tr>\n",
       "    <tr>\n",
       "      <th>1</th>\n",
       "      <td>Albania</td>\n",
       "      <td>105</td>\n",
       "      <td>AL</td>\n",
       "      <td>43.10</td>\n",
       "      <td>28748</td>\n",
       "      <td>9000</td>\n",
       "      <td>11.78</td>\n",
       "      <td>355.0</td>\n",
       "      <td>Tirana</td>\n",
       "      <td>4536</td>\n",
       "      <td>119.05</td>\n",
       "      <td>1.40</td>\n",
       "      <td>ALL</td>\n",
       "      <td>1.62</td>\n",
       "      <td>28.10</td>\n",
       "      <td>1.36</td>\n",
       "      <td>15278077447</td>\n",
       "      <td>107.00</td>\n",
       "      <td>55.00</td>\n",
       "      <td>7.8</td>\n",
       "      <td>Tirana</td>\n",
       "      <td>78.5</td>\n",
       "      <td>15.0</td>\n",
       "      <td>1.12</td>\n",
       "      <td>Albanian</td>\n",
       "      <td>56.90</td>\n",
       "      <td>1.20</td>\n",
       "      <td>2854191</td>\n",
       "      <td>55.70</td>\n",
       "      <td>18.60</td>\n",
       "      <td>36.60</td>\n",
       "      <td>12.33</td>\n",
       "      <td>1747593</td>\n",
       "      <td>41.153332</td>\n",
       "      <td>20.168331</td>\n",
       "    </tr>\n",
       "    <tr>\n",
       "      <th>2</th>\n",
       "      <td>Algeria</td>\n",
       "      <td>18</td>\n",
       "      <td>DZ</td>\n",
       "      <td>17.40</td>\n",
       "      <td>2381741</td>\n",
       "      <td>317000</td>\n",
       "      <td>24.28</td>\n",
       "      <td>213.0</td>\n",
       "      <td>Algiers</td>\n",
       "      <td>150006</td>\n",
       "      <td>151.36</td>\n",
       "      <td>2.00</td>\n",
       "      <td>DZD</td>\n",
       "      <td>3.02</td>\n",
       "      <td>0.80</td>\n",
       "      <td>0.28</td>\n",
       "      <td>169988236398</td>\n",
       "      <td>109.90</td>\n",
       "      <td>51.40</td>\n",
       "      <td>20.1</td>\n",
       "      <td>Algiers</td>\n",
       "      <td>76.7</td>\n",
       "      <td>112.0</td>\n",
       "      <td>0.95</td>\n",
       "      <td>Arabic</td>\n",
       "      <td>28.10</td>\n",
       "      <td>1.72</td>\n",
       "      <td>43053054</td>\n",
       "      <td>41.20</td>\n",
       "      <td>37.20</td>\n",
       "      <td>66.10</td>\n",
       "      <td>11.70</td>\n",
       "      <td>31510100</td>\n",
       "      <td>28.033886</td>\n",
       "      <td>1.659626</td>\n",
       "    </tr>\n",
       "    <tr>\n",
       "      <th>3</th>\n",
       "      <td>Andorra</td>\n",
       "      <td>164</td>\n",
       "      <td>AD</td>\n",
       "      <td>40.00</td>\n",
       "      <td>468</td>\n",
       "      <td>NaN</td>\n",
       "      <td>7.20</td>\n",
       "      <td>376.0</td>\n",
       "      <td>Andorra la Vella</td>\n",
       "      <td>469</td>\n",
       "      <td>NaN</td>\n",
       "      <td>NaN</td>\n",
       "      <td>EUR</td>\n",
       "      <td>1.27</td>\n",
       "      <td>34.00</td>\n",
       "      <td>1.51</td>\n",
       "      <td>3154057987</td>\n",
       "      <td>106.40</td>\n",
       "      <td>NaN</td>\n",
       "      <td>2.7</td>\n",
       "      <td>Andorra la Vella</td>\n",
       "      <td>NaN</td>\n",
       "      <td>NaN</td>\n",
       "      <td>6.63</td>\n",
       "      <td>Catalan</td>\n",
       "      <td>36.40</td>\n",
       "      <td>3.33</td>\n",
       "      <td>77142</td>\n",
       "      <td>NaN</td>\n",
       "      <td>NaN</td>\n",
       "      <td>NaN</td>\n",
       "      <td>NaN</td>\n",
       "      <td>67873</td>\n",
       "      <td>42.506285</td>\n",
       "      <td>1.521801</td>\n",
       "    </tr>\n",
       "    <tr>\n",
       "      <th>4</th>\n",
       "      <td>Angola</td>\n",
       "      <td>26</td>\n",
       "      <td>AO</td>\n",
       "      <td>47.50</td>\n",
       "      <td>1246700</td>\n",
       "      <td>117000</td>\n",
       "      <td>40.73</td>\n",
       "      <td>244.0</td>\n",
       "      <td>Luanda</td>\n",
       "      <td>34693</td>\n",
       "      <td>261.73</td>\n",
       "      <td>17.10</td>\n",
       "      <td>AOA</td>\n",
       "      <td>5.52</td>\n",
       "      <td>46.30</td>\n",
       "      <td>0.97</td>\n",
       "      <td>94635415870</td>\n",
       "      <td>113.50</td>\n",
       "      <td>9.30</td>\n",
       "      <td>51.6</td>\n",
       "      <td>Luanda</td>\n",
       "      <td>60.8</td>\n",
       "      <td>241.0</td>\n",
       "      <td>0.71</td>\n",
       "      <td>Portuguese</td>\n",
       "      <td>33.40</td>\n",
       "      <td>0.21</td>\n",
       "      <td>31825295</td>\n",
       "      <td>77.50</td>\n",
       "      <td>9.20</td>\n",
       "      <td>49.10</td>\n",
       "      <td>6.89</td>\n",
       "      <td>21061025</td>\n",
       "      <td>-11.202692</td>\n",
       "      <td>17.873887</td>\n",
       "    </tr>\n",
       "  </tbody>\n",
       "</table>\n",
       "</div>"
      ],
      "text/plain": [
       "       Country Density\\n(P/Km2) Abbreviation Agricultural Land( %)  \\\n",
       "0  Afghanistan               60           AF                 58.10   \n",
       "1      Albania              105           AL                 43.10   \n",
       "2      Algeria               18           DZ                 17.40   \n",
       "3      Andorra              164           AD                 40.00   \n",
       "4       Angola               26           AO                 47.50   \n",
       "\n",
       "  Land Area(Km2) Armed Forces size  Birth Rate  Calling Code  \\\n",
       "0         652230            323000       32.49          93.0   \n",
       "1          28748              9000       11.78         355.0   \n",
       "2        2381741            317000       24.28         213.0   \n",
       "3            468               NaN        7.20         376.0   \n",
       "4        1246700            117000       40.73         244.0   \n",
       "\n",
       "  Capital/Major City Co2-Emissions     CPI CPI Change (%) Currency-Code  \\\n",
       "0              Kabul          8672   149.9           2.30           AFN   \n",
       "1             Tirana          4536  119.05           1.40           ALL   \n",
       "2            Algiers        150006  151.36           2.00           DZD   \n",
       "3   Andorra la Vella           469     NaN            NaN           EUR   \n",
       "4             Luanda         34693  261.73          17.10           AOA   \n",
       "\n",
       "   Fertility Rate Forested Area (%) Gasoline Price            GDP  \\\n",
       "0            4.47              2.10          0.70    19101353833    \n",
       "1            1.62             28.10          1.36    15278077447    \n",
       "2            3.02              0.80          0.28   169988236398    \n",
       "3            1.27             34.00          1.51     3154057987    \n",
       "4            5.52             46.30          0.97    94635415870    \n",
       "\n",
       "  Gross primary education enrollment (%)  \\\n",
       "0                                 104.00   \n",
       "1                                 107.00   \n",
       "2                                 109.90   \n",
       "3                                 106.40   \n",
       "4                                 113.50   \n",
       "\n",
       "  Gross tertiary education enrollment (%)  Infant mortality      Largest city  \\\n",
       "0                                    9.70              47.9             Kabul   \n",
       "1                                   55.00               7.8            Tirana   \n",
       "2                                   51.40              20.1           Algiers   \n",
       "3                                     NaN               2.7  Andorra la Vella   \n",
       "4                                    9.30              51.6            Luanda   \n",
       "\n",
       "   Life expectancy  Maternal mortality ratio Minimum wage Official language  \\\n",
       "0             64.5                     638.0        0.43             Pashto   \n",
       "1             78.5                      15.0        1.12           Albanian   \n",
       "2             76.7                     112.0        0.95             Arabic   \n",
       "3              NaN                       NaN        6.63            Catalan   \n",
       "4             60.8                     241.0        0.71         Portuguese   \n",
       "\n",
       "  Out of pocket health expenditure  Physicians per thousand Population  \\\n",
       "0                            78.40                     0.28   38041754   \n",
       "1                            56.90                     1.20    2854191   \n",
       "2                            28.10                     1.72   43053054   \n",
       "3                            36.40                     3.33      77142   \n",
       "4                            33.40                     0.21   31825295   \n",
       "\n",
       "  Population: Labor force participation (%) Tax revenue (%) Total tax rate  \\\n",
       "0                                     48.90            9.30          71.40   \n",
       "1                                     55.70           18.60          36.60   \n",
       "2                                     41.20           37.20          66.10   \n",
       "3                                       NaN             NaN            NaN   \n",
       "4                                     77.50            9.20          49.10   \n",
       "\n",
       "  Unemployment rate Urban_population   Latitude  Longitude  \n",
       "0             11.12          9797273  33.939110  67.709953  \n",
       "1             12.33          1747593  41.153332  20.168331  \n",
       "2             11.70         31510100  28.033886   1.659626  \n",
       "3               NaN            67873  42.506285   1.521801  \n",
       "4              6.89         21061025 -11.202692  17.873887  "
      ]
     },
     "execution_count": 2193,
     "metadata": {},
     "output_type": "execute_result"
    }
   ],
   "source": [
    "world_info.head()"
   ]
  },
  {
   "cell_type": "code",
   "execution_count": 2194,
   "id": "020cef81-910d-41c1-b9f1-a08a70035dcf",
   "metadata": {},
   "outputs": [],
   "source": [
    "pd.reset_option('display.max_columns')"
   ]
  },
  {
   "cell_type": "code",
   "execution_count": 2195,
   "id": "15eda74e-b491-4bda-8293-d3b47b3ce0e5",
   "metadata": {
    "tags": []
   },
   "outputs": [
    {
     "data": {
      "text/plain": [
       "195"
      ]
     },
     "execution_count": 2195,
     "metadata": {},
     "output_type": "execute_result"
    }
   ],
   "source": [
    "world_info['Country'].value_counts().sum()"
   ]
  },
  {
   "cell_type": "markdown",
   "id": "59d760b7-e8c6-4c81-8e37-b405ac9ee21a",
   "metadata": {
    "tags": []
   },
   "source": [
    "### Data Cleaning in The Global Country Information Dataset 2023"
   ]
  },
  {
   "cell_type": "code",
   "execution_count": 2197,
   "id": "af7e7549-171b-4ee9-a527-36cda2def375",
   "metadata": {
    "tags": []
   },
   "outputs": [],
   "source": [
    "duplicates = world_info.duplicated()"
   ]
  },
  {
   "cell_type": "code",
   "execution_count": 2198,
   "id": "ce7e336e-bd18-461f-9592-a6ccc9d48da8",
   "metadata": {
    "tags": []
   },
   "outputs": [
    {
     "name": "stdout",
     "output_type": "stream",
     "text": [
      "Number of duplicates in DataFrame: 0\n"
     ]
    }
   ],
   "source": [
    "num_duplicates = duplicates.sum()\n",
    "print(\"Number of duplicates in DataFrame:\", num_duplicates)"
   ]
  },
  {
   "cell_type": "code",
   "execution_count": 2199,
   "id": "ef89d0cd-0980-4ad4-8475-16f6b6f3ff89",
   "metadata": {
    "tags": []
   },
   "outputs": [
    {
     "data": {
      "text/plain": [
       "Index(['Country', 'Density\\n(P/Km2)', 'Abbreviation', 'Agricultural Land( %)',\n",
       "       'Land Area(Km2)', 'Armed Forces size', 'Birth Rate', 'Calling Code',\n",
       "       'Capital/Major City', 'Co2-Emissions', 'CPI', 'CPI Change (%)',\n",
       "       'Currency-Code', 'Fertility Rate', 'Forested Area (%)',\n",
       "       'Gasoline Price', 'GDP', 'Gross primary education enrollment (%)',\n",
       "       'Gross tertiary education enrollment (%)', 'Infant mortality',\n",
       "       'Largest city', 'Life expectancy', 'Maternal mortality ratio',\n",
       "       'Minimum wage', 'Official language', 'Out of pocket health expenditure',\n",
       "       'Physicians per thousand', 'Population',\n",
       "       'Population: Labor force participation (%)', 'Tax revenue (%)',\n",
       "       'Total tax rate', 'Unemployment rate', 'Urban_population', 'Latitude',\n",
       "       'Longitude'],\n",
       "      dtype='object')"
      ]
     },
     "execution_count": 2199,
     "metadata": {},
     "output_type": "execute_result"
    }
   ],
   "source": [
    "world_info.columns"
   ]
  },
  {
   "cell_type": "code",
   "execution_count": 2200,
   "id": "99dede31-fb99-4073-bf2a-2e04870e9835",
   "metadata": {
    "tags": []
   },
   "outputs": [
    {
     "name": "stdout",
     "output_type": "stream",
     "text": [
      "['Afghanistan', 'Albania', 'Algeria', 'Andorra', 'Angola', 'Antigua and Barbuda', 'Argentina', 'Armenia', 'Australia', 'Austria', 'Azerbaijan', 'The Bahamas', 'Bahrain', 'Bangladesh', 'Barbados', 'Belarus', 'Belgium', 'Belize', 'Benin', 'Bhutan', 'Bolivia', 'Bosnia and Herzegovina', 'Botswana', 'Brazil', 'Brunei', 'Bulgaria', 'Burkina Faso', 'Burundi', 'Ivory Coast', 'Cape Verde', 'Cambodia', 'Cameroon', 'Canada', 'Central African Republic', 'Chad', 'Chile', 'China', 'Colombia', 'Comoros', 'Republic of the Congo', 'Costa Rica', 'Croatia', 'Cuba', 'Cyprus', 'Czech Republic', 'Democratic Republic of the Congo', 'Denmark', 'Djibouti', 'Dominica', 'Dominican Republic', 'Ecuador', 'Egypt', 'El Salvador', 'Equatorial Guinea', 'Eritrea', 'Estonia', 'Eswatini', 'Ethiopia', 'Fiji', 'Finland', 'France', 'Gabon', 'The Gambia', 'Georgia', 'Germany', 'Ghana', 'Greece', 'Grenada', 'Guatemala', 'Guinea', 'Guinea-Bissau', 'Guyana', 'Haiti', 'Vatican City', 'Honduras', 'Hungary', 'Iceland', 'India', 'Indonesia', 'Iran', 'Iraq', 'Republic of Ireland', 'Israel', 'Italy', 'Jamaica', 'Japan', 'Jordan', 'Kazakhstan', 'Kenya', 'Kiribati', 'Kuwait', 'Kyrgyzstan', 'Laos', 'Latvia', 'Lebanon', 'Lesotho', 'Liberia', 'Libya', 'Liechtenstein', 'Lithuania', 'Luxembourg', 'Madagascar', 'Malawi', 'Malaysia', 'Maldives', 'Mali', 'Malta', 'Marshall Islands', 'Mauritania', 'Mauritius', 'Mexico', 'Federated States of Micronesia', 'Moldova', 'Monaco', 'Mongolia', 'Montenegro', 'Morocco', 'Mozambique', 'Myanmar', 'Namibia', 'Nauru', 'Nepal', 'Netherlands', 'New Zealand', 'Nicaragua', 'Niger', 'Nigeria', 'North Korea', 'North Macedonia', 'Norway', 'Oman', 'Pakistan', 'Palau', 'Palestinian National Authority', 'Panama', 'Papua New Guinea', 'Paraguay', 'Peru', 'Philippines', 'Poland', 'Portugal', 'Qatar', 'Romania', 'Russia', 'Rwanda', 'Saint Kitts and Nevis', 'Saint Lucia', 'Saint Vincent and the Grenadines', 'Samoa', 'San Marino', 'S�����������', 'Saudi Arabia', 'Senegal', 'Serbia', 'Seychelles', 'Sierra Leone', 'Singapore', 'Slovakia', 'Slovenia', 'Solomon Islands', 'Somalia', 'South Africa', 'South Korea', 'South Sudan', 'Spain', 'Sri Lanka', 'Sudan', 'Suriname', 'Sweden', 'Switzerland', 'Syria', 'Tajikistan', 'Tanzania', 'Thailand', 'East Timor', 'Togo', 'Tonga', 'Trinidad and Tobago', 'Tunisia', 'Turkey', 'Turkmenistan', 'Tuvalu', 'Uganda', 'Ukraine', 'United Arab Emirates', 'United Kingdom', 'United States', 'Uruguay', 'Uzbekistan', 'Vanuatu', 'Venezuela', 'Vietnam', 'Yemen', 'Zambia', 'Zimbabwe']\n"
     ]
    }
   ],
   "source": [
    "unique_countries = world_info['Country'].unique()\n",
    "\n",
    "# Convert an array of unique values to a list\n",
    "countries_list = unique_countries.tolist()\n",
    "\n",
    "print(countries_list)"
   ]
  },
  {
   "cell_type": "markdown",
   "id": "121d3998-6b53-4ff5-9231-1aef0e7d36e0",
   "metadata": {
    "tags": []
   },
   "source": [
    "Delete rows where Country == 'S�����������'"
   ]
  },
  {
   "cell_type": "code",
   "execution_count": 2202,
   "id": "46b7c408-48f7-4c89-bc34-524e627a45be",
   "metadata": {
    "tags": []
   },
   "outputs": [],
   "source": [
    "world_info = world_info.loc[world_info['Country'] != 'S�����������']"
   ]
  },
  {
   "cell_type": "code",
   "execution_count": 2203,
   "id": "6391c6a9-09c8-48a7-b738-c71c80bac91f",
   "metadata": {
    "tags": []
   },
   "outputs": [
    {
     "name": "stdout",
     "output_type": "stream",
     "text": [
      "Check passed: there is no country 'S�����������' in the DataFrame.\n"
     ]
    }
   ],
   "source": [
    "# Check using assert that the DataFrame no longer contains a row with the country \"S�����������\"\n",
    "assert not world_info['Country'].isin(['S�����������']).any(), \"DataFrame still has country 'S�����������'\"\n",
    "\n",
    "# If the assertion passes, print a confirmation message\n",
    "print(\"Check passed: there is no country 'S�����������' in the DataFrame.\")"
   ]
  },
  {
   "cell_type": "code",
   "execution_count": 2204,
   "id": "61f9acdd-b9cb-4ca9-ba5a-3c86fcd4ebf2",
   "metadata": {
    "tags": []
   },
   "outputs": [
    {
     "name": "stdout",
     "output_type": "stream",
     "text": [
      "['Afghanistan', 'Albania', 'Algeria', 'Andorra', 'Angola', 'Antigua and Barbuda', 'Argentina', 'Armenia', 'Australia', 'Austria', 'Azerbaijan', 'The Bahamas', 'Bahrain', 'Bangladesh', 'Barbados', 'Belarus', 'Belgium', 'Belize', 'Benin', 'Bhutan', 'Bolivia', 'Bosnia and Herzegovina', 'Botswana', 'Brazil', 'Brunei', 'Bulgaria', 'Burkina Faso', 'Burundi', 'Ivory Coast', 'Cape Verde', 'Cambodia', 'Cameroon', 'Canada', 'Central African Republic', 'Chad', 'Chile', 'China', 'Colombia', 'Comoros', 'Republic of the Congo', 'Costa Rica', 'Croatia', 'Cuba', 'Cyprus', 'Czech Republic', 'Democratic Republic of the Congo', 'Denmark', 'Djibouti', 'Dominica', 'Dominican Republic', 'Ecuador', 'Egypt', 'El Salvador', 'Equatorial Guinea', 'Eritrea', 'Estonia', 'Eswatini', 'Ethiopia', 'Fiji', 'Finland', 'France', 'Gabon', 'The Gambia', 'Georgia', 'Germany', 'Ghana', 'Greece', 'Grenada', 'Guatemala', 'Guinea', 'Guinea-Bissau', 'Guyana', 'Haiti', 'Vatican City', 'Honduras', 'Hungary', 'Iceland', 'India', 'Indonesia', 'Iran', 'Iraq', 'Republic of Ireland', 'Israel', 'Italy', 'Jamaica', 'Japan', 'Jordan', 'Kazakhstan', 'Kenya', 'Kiribati', 'Kuwait', 'Kyrgyzstan', 'Laos', 'Latvia', 'Lebanon', 'Lesotho', 'Liberia', 'Libya', 'Liechtenstein', 'Lithuania', 'Luxembourg', 'Madagascar', 'Malawi', 'Malaysia', 'Maldives', 'Mali', 'Malta', 'Marshall Islands', 'Mauritania', 'Mauritius', 'Mexico', 'Federated States of Micronesia', 'Moldova', 'Monaco', 'Mongolia', 'Montenegro', 'Morocco', 'Mozambique', 'Myanmar', 'Namibia', 'Nauru', 'Nepal', 'Netherlands', 'New Zealand', 'Nicaragua', 'Niger', 'Nigeria', 'North Korea', 'North Macedonia', 'Norway', 'Oman', 'Pakistan', 'Palau', 'Palestinian National Authority', 'Panama', 'Papua New Guinea', 'Paraguay', 'Peru', 'Philippines', 'Poland', 'Portugal', 'Qatar', 'Romania', 'Russia', 'Rwanda', 'Saint Kitts and Nevis', 'Saint Lucia', 'Saint Vincent and the Grenadines', 'Samoa', 'San Marino', 'Saudi Arabia', 'Senegal', 'Serbia', 'Seychelles', 'Sierra Leone', 'Singapore', 'Slovakia', 'Slovenia', 'Solomon Islands', 'Somalia', 'South Africa', 'South Korea', 'South Sudan', 'Spain', 'Sri Lanka', 'Sudan', 'Suriname', 'Sweden', 'Switzerland', 'Syria', 'Tajikistan', 'Tanzania', 'Thailand', 'East Timor', 'Togo', 'Tonga', 'Trinidad and Tobago', 'Tunisia', 'Turkey', 'Turkmenistan', 'Tuvalu', 'Uganda', 'Ukraine', 'United Arab Emirates', 'United Kingdom', 'United States', 'Uruguay', 'Uzbekistan', 'Vanuatu', 'Venezuela', 'Vietnam', 'Yemen', 'Zambia', 'Zimbabwe']\n"
     ]
    }
   ],
   "source": [
    "unique_countries = world_info['Country'].unique()\n",
    "\n",
    "# Convert an array of unique values to a list\n",
    "countries_list = unique_countries.tolist()\n",
    "\n",
    "print(countries_list)"
   ]
  },
  {
   "cell_type": "code",
   "execution_count": 2205,
   "id": "9f29f3c9-e029-464d-98bd-f17a62c670f2",
   "metadata": {
    "tags": []
   },
   "outputs": [
    {
     "data": {
      "text/plain": [
       "Country\n",
       "Afghanistan              1\n",
       "Saint Kitts and Nevis    1\n",
       "New Zealand              1\n",
       "Nicaragua                1\n",
       "Niger                    1\n",
       "                        ..\n",
       "Grenada                  1\n",
       "Guatemala                1\n",
       "Guinea                   1\n",
       "Guinea-Bissau            1\n",
       "Zimbabwe                 1\n",
       "Name: count, Length: 194, dtype: int64"
      ]
     },
     "execution_count": 2205,
     "metadata": {},
     "output_type": "execute_result"
    }
   ],
   "source": [
    "world_info['Country'].value_counts()"
   ]
  },
  {
   "cell_type": "markdown",
   "id": "f67d63e9-517b-4ed8-a4d1-7ce4ffec1acf",
   "metadata": {},
   "source": [
    "#### Finding Missing Values"
   ]
  },
  {
   "cell_type": "code",
   "execution_count": 2207,
   "id": "ae3d36b1-533b-48bd-9233-388b8d7de683",
   "metadata": {
    "tags": []
   },
   "outputs": [
    {
     "name": "stdout",
     "output_type": "stream",
     "text": [
      "there are missing values in the DataFrame: True\n"
     ]
    }
   ],
   "source": [
    "# Check if there are missing values anywhere in the DataFrame\n",
    "missing_values = world_info.isnull().any().any()\n",
    "print(\"there are missing values in the DataFrame:\", missing_values)"
   ]
  },
  {
   "cell_type": "code",
   "execution_count": 2208,
   "id": "3d91681b-6872-4e06-993f-c91a1ef78b0f",
   "metadata": {
    "tags": []
   },
   "outputs": [],
   "source": [
    "missing_world = pd.concat([world_info.isnull().sum(), 100 * world_info.isnull().mean()], axis=1)\n",
    "missing_world.columns=['count', '%']\n",
    "missing_world = missing_world.sort_values(by='count', ascending=False)"
   ]
  },
  {
   "cell_type": "code",
   "execution_count": 2209,
   "id": "e261a277-893d-447c-9de2-c46191b3223a",
   "metadata": {
    "tags": []
   },
   "outputs": [
    {
     "data": {
      "text/html": [
       "<div>\n",
       "<style scoped>\n",
       "    .dataframe tbody tr th:only-of-type {\n",
       "        vertical-align: middle;\n",
       "    }\n",
       "\n",
       "    .dataframe tbody tr th {\n",
       "        vertical-align: top;\n",
       "    }\n",
       "\n",
       "    .dataframe thead th {\n",
       "        text-align: right;\n",
       "    }\n",
       "</style>\n",
       "<table border=\"1\" class=\"dataframe\">\n",
       "  <thead>\n",
       "    <tr style=\"text-align: right;\">\n",
       "      <th></th>\n",
       "      <th>count</th>\n",
       "      <th>%</th>\n",
       "    </tr>\n",
       "  </thead>\n",
       "  <tbody>\n",
       "    <tr>\n",
       "      <th>Minimum wage</th>\n",
       "      <td>44</td>\n",
       "      <td>22.680412</td>\n",
       "    </tr>\n",
       "    <tr>\n",
       "      <th>Tax revenue (%)</th>\n",
       "      <td>26</td>\n",
       "      <td>13.402062</td>\n",
       "    </tr>\n",
       "    <tr>\n",
       "      <th>Armed Forces size</th>\n",
       "      <td>24</td>\n",
       "      <td>12.371134</td>\n",
       "    </tr>\n",
       "    <tr>\n",
       "      <th>Unemployment rate</th>\n",
       "      <td>19</td>\n",
       "      <td>9.793814</td>\n",
       "    </tr>\n",
       "    <tr>\n",
       "      <th>Gasoline Price</th>\n",
       "      <td>19</td>\n",
       "      <td>9.793814</td>\n",
       "    </tr>\n",
       "    <tr>\n",
       "      <th>Population: Labor force participation (%)</th>\n",
       "      <td>19</td>\n",
       "      <td>9.793814</td>\n",
       "    </tr>\n",
       "    <tr>\n",
       "      <th>CPI</th>\n",
       "      <td>17</td>\n",
       "      <td>8.762887</td>\n",
       "    </tr>\n",
       "    <tr>\n",
       "      <th>CPI Change (%)</th>\n",
       "      <td>16</td>\n",
       "      <td>8.247423</td>\n",
       "    </tr>\n",
       "    <tr>\n",
       "      <th>Currency-Code</th>\n",
       "      <td>15</td>\n",
       "      <td>7.731959</td>\n",
       "    </tr>\n",
       "    <tr>\n",
       "      <th>Maternal mortality ratio</th>\n",
       "      <td>14</td>\n",
       "      <td>7.216495</td>\n",
       "    </tr>\n",
       "    <tr>\n",
       "      <th>Total tax rate</th>\n",
       "      <td>12</td>\n",
       "      <td>6.185567</td>\n",
       "    </tr>\n",
       "    <tr>\n",
       "      <th>Gross tertiary education enrollment (%)</th>\n",
       "      <td>12</td>\n",
       "      <td>6.185567</td>\n",
       "    </tr>\n",
       "    <tr>\n",
       "      <th>Life expectancy</th>\n",
       "      <td>8</td>\n",
       "      <td>4.123711</td>\n",
       "    </tr>\n",
       "    <tr>\n",
       "      <th>Physicians per thousand</th>\n",
       "      <td>7</td>\n",
       "      <td>3.608247</td>\n",
       "    </tr>\n",
       "    <tr>\n",
       "      <th>Out of pocket health expenditure</th>\n",
       "      <td>7</td>\n",
       "      <td>3.608247</td>\n",
       "    </tr>\n",
       "    <tr>\n",
       "      <th>Gross primary education enrollment (%)</th>\n",
       "      <td>7</td>\n",
       "      <td>3.608247</td>\n",
       "    </tr>\n",
       "    <tr>\n",
       "      <th>Forested Area (%)</th>\n",
       "      <td>7</td>\n",
       "      <td>3.608247</td>\n",
       "    </tr>\n",
       "    <tr>\n",
       "      <th>Fertility Rate</th>\n",
       "      <td>7</td>\n",
       "      <td>3.608247</td>\n",
       "    </tr>\n",
       "    <tr>\n",
       "      <th>Co2-Emissions</th>\n",
       "      <td>7</td>\n",
       "      <td>3.608247</td>\n",
       "    </tr>\n",
       "    <tr>\n",
       "      <th>Agricultural Land( %)</th>\n",
       "      <td>7</td>\n",
       "      <td>3.608247</td>\n",
       "    </tr>\n",
       "    <tr>\n",
       "      <th>Abbreviation</th>\n",
       "      <td>7</td>\n",
       "      <td>3.608247</td>\n",
       "    </tr>\n",
       "    <tr>\n",
       "      <th>Infant mortality</th>\n",
       "      <td>6</td>\n",
       "      <td>3.092784</td>\n",
       "    </tr>\n",
       "    <tr>\n",
       "      <th>Largest city</th>\n",
       "      <td>6</td>\n",
       "      <td>3.092784</td>\n",
       "    </tr>\n",
       "    <tr>\n",
       "      <th>Birth Rate</th>\n",
       "      <td>6</td>\n",
       "      <td>3.092784</td>\n",
       "    </tr>\n",
       "    <tr>\n",
       "      <th>Urban_population</th>\n",
       "      <td>5</td>\n",
       "      <td>2.577320</td>\n",
       "    </tr>\n",
       "    <tr>\n",
       "      <th>Official language</th>\n",
       "      <td>4</td>\n",
       "      <td>2.061856</td>\n",
       "    </tr>\n",
       "    <tr>\n",
       "      <th>Capital/Major City</th>\n",
       "      <td>3</td>\n",
       "      <td>1.546392</td>\n",
       "    </tr>\n",
       "    <tr>\n",
       "      <th>GDP</th>\n",
       "      <td>2</td>\n",
       "      <td>1.030928</td>\n",
       "    </tr>\n",
       "    <tr>\n",
       "      <th>Calling Code</th>\n",
       "      <td>1</td>\n",
       "      <td>0.515464</td>\n",
       "    </tr>\n",
       "    <tr>\n",
       "      <th>Population</th>\n",
       "      <td>1</td>\n",
       "      <td>0.515464</td>\n",
       "    </tr>\n",
       "    <tr>\n",
       "      <th>Land Area(Km2)</th>\n",
       "      <td>1</td>\n",
       "      <td>0.515464</td>\n",
       "    </tr>\n",
       "    <tr>\n",
       "      <th>Latitude</th>\n",
       "      <td>0</td>\n",
       "      <td>0.000000</td>\n",
       "    </tr>\n",
       "    <tr>\n",
       "      <th>Country</th>\n",
       "      <td>0</td>\n",
       "      <td>0.000000</td>\n",
       "    </tr>\n",
       "    <tr>\n",
       "      <th>Density\\n(P/Km2)</th>\n",
       "      <td>0</td>\n",
       "      <td>0.000000</td>\n",
       "    </tr>\n",
       "    <tr>\n",
       "      <th>Longitude</th>\n",
       "      <td>0</td>\n",
       "      <td>0.000000</td>\n",
       "    </tr>\n",
       "  </tbody>\n",
       "</table>\n",
       "</div>"
      ],
      "text/plain": [
       "                                           count          %\n",
       "Minimum wage                                  44  22.680412\n",
       "Tax revenue (%)                               26  13.402062\n",
       "Armed Forces size                             24  12.371134\n",
       "Unemployment rate                             19   9.793814\n",
       "Gasoline Price                                19   9.793814\n",
       "Population: Labor force participation (%)     19   9.793814\n",
       "CPI                                           17   8.762887\n",
       "CPI Change (%)                                16   8.247423\n",
       "Currency-Code                                 15   7.731959\n",
       "Maternal mortality ratio                      14   7.216495\n",
       "Total tax rate                                12   6.185567\n",
       "Gross tertiary education enrollment (%)       12   6.185567\n",
       "Life expectancy                                8   4.123711\n",
       "Physicians per thousand                        7   3.608247\n",
       "Out of pocket health expenditure               7   3.608247\n",
       "Gross primary education enrollment (%)         7   3.608247\n",
       "Forested Area (%)                              7   3.608247\n",
       "Fertility Rate                                 7   3.608247\n",
       "Co2-Emissions                                  7   3.608247\n",
       "Agricultural Land( %)                          7   3.608247\n",
       "Abbreviation                                   7   3.608247\n",
       "Infant mortality                               6   3.092784\n",
       "Largest city                                   6   3.092784\n",
       "Birth Rate                                     6   3.092784\n",
       "Urban_population                               5   2.577320\n",
       "Official language                              4   2.061856\n",
       "Capital/Major City                             3   1.546392\n",
       "GDP                                            2   1.030928\n",
       "Calling Code                                   1   0.515464\n",
       "Population                                     1   0.515464\n",
       "Land Area(Km2)                                 1   0.515464\n",
       "Latitude                                       0   0.000000\n",
       "Country                                        0   0.000000\n",
       "Density\\n(P/Km2)                               0   0.000000\n",
       "Longitude                                      0   0.000000"
      ]
     },
     "execution_count": 2209,
     "metadata": {},
     "output_type": "execute_result"
    }
   ],
   "source": [
    "missing_world"
   ]
  },
  {
   "cell_type": "code",
   "execution_count": 2210,
   "id": "2963ef87-6e9a-4a17-a88e-3eeb82b1a956",
   "metadata": {
    "tags": []
   },
   "outputs": [
    {
     "name": "stdout",
     "output_type": "stream",
     "text": [
      "Страны с NaN в столбце 'Minimum wage':\n",
      "24                             Brunei\n",
      "73                       Vatican City\n",
      "97                              Libya\n",
      "120                             Nauru\n",
      "133    Palestinian National Authority\n",
      "156                         Singapore\n",
      "Name: Country, dtype: object\n"
     ]
    }
   ],
   "source": [
    "# Find rows where the value in the 'Minimum wage' column is NaN\n",
    "nan_wage_countries = world_info[world_info['Largest city'].isna()]\n",
    "\n",
    "# Print countries where 'Minimum wage' is NaN\n",
    "print(\"Страны с NaN в столбце 'Minimum wage':\")\n",
    "print(nan_wage_countries['Country'])\n"
   ]
  },
  {
   "cell_type": "code",
   "execution_count": 2211,
   "id": "dc413346-603b-4bf8-b77d-19735979ade4",
   "metadata": {
    "tags": []
   },
   "outputs": [
    {
     "name": "stdout",
     "output_type": "stream",
     "text": [
      "['United States' 'United Kingdom' 'Germany' 'Sweden' 'India'\n",
      " 'Korea, Republic of' 'Spain' 'Estonia' 'France' 'Philippines' 'Canada'\n",
      " 'Australia' 'Turkey' 'Portugal' 'Brazil' 'Switzerland' 'Andorra'\n",
      " 'Netherlands' 'Ecuador' 'Mexico' 'Israel' 'Nigeria' 'Saudi Arabia'\n",
      " 'Colombia' 'Poland' 'Norway' 'Ghana' 'Argentina' 'Japan'\n",
      " 'Russian Federation' 'South Africa' 'Italy' 'Hong Kong'\n",
      " 'Central African Republic' 'Finland' 'Ukraine' 'Ireland' 'Singapore'\n",
      " 'Slovenia' 'Thailand' 'Croatia' 'Armenia' 'Bosnia and Herzegovina'\n",
      " 'Kenya' 'Latvia' 'Romania' 'Pakistan' 'Lithuania'\n",
      " 'Iran, Islamic Republic of' 'Bahamas' 'Hungary' 'Austria' 'Puerto Rico'\n",
      " 'American Samoa' 'Greece' 'Denmark' 'Belgium' 'Indonesia' 'Egypt'\n",
      " 'United Arab Emirates' 'Malaysia' 'Honduras' 'Czechia' 'Algeria' 'Iraq'\n",
      " 'China' 'New Zealand' 'Chile' 'Moldova, Republic of' 'Luxembourg' 'Malta'\n",
      " 'Qatar' 'Gibraltar' 'Mauritius' 'Viet Nam']\n"
     ]
    }
   ],
   "source": [
    "# Getting a list of unique countries from salaries\n",
    "countries_in_salaries = salaries['Company Location'].unique()\n",
    "print(countries_in_salaries)"
   ]
  },
  {
   "cell_type": "code",
   "execution_count": 2212,
   "id": "72759992-9207-43c1-9979-77f35d22112d",
   "metadata": {
    "tags": []
   },
   "outputs": [],
   "source": [
    "# Identification of countries that are not in salaries\n",
    "missing_countries = world_info[~world_info['Country'].isin(countries_in_salaries)]"
   ]
  },
  {
   "cell_type": "code",
   "execution_count": 2213,
   "id": "e6b1287a-8712-453d-9883-f15175da2f86",
   "metadata": {
    "tags": []
   },
   "outputs": [
    {
     "name": "stdout",
     "output_type": "stream",
     "text": [
      "Страны из 'world_info', которых нет в 'salaries':\n",
      "['Afghanistan' 'Albania' 'Angola' 'Antigua and Barbuda' 'Azerbaijan'\n",
      " 'The Bahamas' 'Bahrain' 'Bangladesh' 'Barbados' 'Belarus' 'Belize'\n",
      " 'Benin' 'Bhutan' 'Bolivia' 'Botswana' 'Brunei' 'Bulgaria' 'Burkina Faso'\n",
      " 'Burundi' 'Ivory Coast' 'Cape Verde' 'Cambodia' 'Cameroon' 'Chad'\n",
      " 'Comoros' 'Republic of the Congo' 'Costa Rica' 'Cuba' 'Cyprus'\n",
      " 'Czech Republic' 'Democratic Republic of the Congo' 'Djibouti' 'Dominica'\n",
      " 'Dominican Republic' 'El Salvador' 'Equatorial Guinea' 'Eritrea'\n",
      " 'Eswatini' 'Ethiopia' 'Fiji' 'Gabon' 'The Gambia' 'Georgia' 'Grenada'\n",
      " 'Guatemala' 'Guinea' 'Guinea-Bissau' 'Guyana' 'Haiti' 'Vatican City'\n",
      " 'Iceland' 'Iran' 'Republic of Ireland' 'Jamaica' 'Jordan' 'Kazakhstan'\n",
      " 'Kiribati' 'Kuwait' 'Kyrgyzstan' 'Laos' 'Lebanon' 'Lesotho' 'Liberia'\n",
      " 'Libya' 'Liechtenstein' 'Madagascar' 'Malawi' 'Maldives' 'Mali'\n",
      " 'Marshall Islands' 'Mauritania' 'Federated States of Micronesia'\n",
      " 'Moldova' 'Monaco' 'Mongolia' 'Montenegro' 'Morocco' 'Mozambique'\n",
      " 'Myanmar' 'Namibia' 'Nauru' 'Nepal' 'Nicaragua' 'Niger' 'North Korea'\n",
      " 'North Macedonia' 'Oman' 'Palau' 'Palestinian National Authority'\n",
      " 'Panama' 'Papua New Guinea' 'Paraguay' 'Peru' 'Russia' 'Rwanda'\n",
      " 'Saint Kitts and Nevis' 'Saint Lucia' 'Saint Vincent and the Grenadines'\n",
      " 'Samoa' 'San Marino' 'Senegal' 'Serbia' 'Seychelles' 'Sierra Leone'\n",
      " 'Slovakia' 'Solomon Islands' 'Somalia' 'South Korea' 'South Sudan'\n",
      " 'Sri Lanka' 'Sudan' 'Suriname' 'Syria' 'Tajikistan' 'Tanzania'\n",
      " 'East Timor' 'Togo' 'Tonga' 'Trinidad and Tobago' 'Tunisia'\n",
      " 'Turkmenistan' 'Tuvalu' 'Uganda' 'Uruguay' 'Uzbekistan' 'Vanuatu'\n",
      " 'Venezuela' 'Vietnam' 'Yemen' 'Zambia' 'Zimbabwe']\n"
     ]
    }
   ],
   "source": [
    "# Display a list of countries that are not in salaries\n",
    "print(\"Страны из 'world_info', которых нет в 'salaries':\")\n",
    "print(missing_countries['Country'].unique())"
   ]
  },
  {
   "cell_type": "code",
   "execution_count": 2214,
   "id": "f3d22847-979e-4b6c-9d7a-4bfe448b96ab",
   "metadata": {
    "tags": []
   },
   "outputs": [],
   "source": [
    "# Update world_info, excluding countries that are not in salaries\n",
    "world_info = world_info[world_info['Country'].isin(countries_in_salaries)]"
   ]
  },
  {
   "cell_type": "code",
   "execution_count": 2215,
   "id": "d552e9c8-ddda-4720-a529-d2980e10b9a2",
   "metadata": {
    "tags": []
   },
   "outputs": [
    {
     "data": {
      "text/html": [
       "<div>\n",
       "<style scoped>\n",
       "    .dataframe tbody tr th:only-of-type {\n",
       "        vertical-align: middle;\n",
       "    }\n",
       "\n",
       "    .dataframe tbody tr th {\n",
       "        vertical-align: top;\n",
       "    }\n",
       "\n",
       "    .dataframe thead th {\n",
       "        text-align: right;\n",
       "    }\n",
       "</style>\n",
       "<table border=\"1\" class=\"dataframe\">\n",
       "  <thead>\n",
       "    <tr style=\"text-align: right;\">\n",
       "      <th></th>\n",
       "      <th>count</th>\n",
       "      <th>%</th>\n",
       "    </tr>\n",
       "  </thead>\n",
       "  <tbody>\n",
       "    <tr>\n",
       "      <th>Minimum wage</th>\n",
       "      <td>12</td>\n",
       "      <td>19.047619</td>\n",
       "    </tr>\n",
       "    <tr>\n",
       "      <th>Official language</th>\n",
       "      <td>4</td>\n",
       "      <td>6.349206</td>\n",
       "    </tr>\n",
       "    <tr>\n",
       "      <th>Currency-Code</th>\n",
       "      <td>3</td>\n",
       "      <td>4.761905</td>\n",
       "    </tr>\n",
       "    <tr>\n",
       "      <th>Tax revenue (%)</th>\n",
       "      <td>2</td>\n",
       "      <td>3.174603</td>\n",
       "    </tr>\n",
       "    <tr>\n",
       "      <th>Gross primary education enrollment (%)</th>\n",
       "      <td>1</td>\n",
       "      <td>1.587302</td>\n",
       "    </tr>\n",
       "    <tr>\n",
       "      <th>Life expectancy</th>\n",
       "      <td>1</td>\n",
       "      <td>1.587302</td>\n",
       "    </tr>\n",
       "    <tr>\n",
       "      <th>Maternal mortality ratio</th>\n",
       "      <td>1</td>\n",
       "      <td>1.587302</td>\n",
       "    </tr>\n",
       "    <tr>\n",
       "      <th>Gross tertiary education enrollment (%)</th>\n",
       "      <td>1</td>\n",
       "      <td>1.587302</td>\n",
       "    </tr>\n",
       "    <tr>\n",
       "      <th>CPI Change (%)</th>\n",
       "      <td>1</td>\n",
       "      <td>1.587302</td>\n",
       "    </tr>\n",
       "    <tr>\n",
       "      <th>CPI</th>\n",
       "      <td>1</td>\n",
       "      <td>1.587302</td>\n",
       "    </tr>\n",
       "    <tr>\n",
       "      <th>Population: Labor force participation (%)</th>\n",
       "      <td>1</td>\n",
       "      <td>1.587302</td>\n",
       "    </tr>\n",
       "    <tr>\n",
       "      <th>Capital/Major City</th>\n",
       "      <td>1</td>\n",
       "      <td>1.587302</td>\n",
       "    </tr>\n",
       "    <tr>\n",
       "      <th>Total tax rate</th>\n",
       "      <td>1</td>\n",
       "      <td>1.587302</td>\n",
       "    </tr>\n",
       "    <tr>\n",
       "      <th>Armed Forces size</th>\n",
       "      <td>1</td>\n",
       "      <td>1.587302</td>\n",
       "    </tr>\n",
       "    <tr>\n",
       "      <th>Unemployment rate</th>\n",
       "      <td>1</td>\n",
       "      <td>1.587302</td>\n",
       "    </tr>\n",
       "    <tr>\n",
       "      <th>Largest city</th>\n",
       "      <td>1</td>\n",
       "      <td>1.587302</td>\n",
       "    </tr>\n",
       "    <tr>\n",
       "      <th>Population</th>\n",
       "      <td>0</td>\n",
       "      <td>0.000000</td>\n",
       "    </tr>\n",
       "    <tr>\n",
       "      <th>Physicians per thousand</th>\n",
       "      <td>0</td>\n",
       "      <td>0.000000</td>\n",
       "    </tr>\n",
       "    <tr>\n",
       "      <th>Out of pocket health expenditure</th>\n",
       "      <td>0</td>\n",
       "      <td>0.000000</td>\n",
       "    </tr>\n",
       "    <tr>\n",
       "      <th>Urban_population</th>\n",
       "      <td>0</td>\n",
       "      <td>0.000000</td>\n",
       "    </tr>\n",
       "    <tr>\n",
       "      <th>Latitude</th>\n",
       "      <td>0</td>\n",
       "      <td>0.000000</td>\n",
       "    </tr>\n",
       "    <tr>\n",
       "      <th>Country</th>\n",
       "      <td>0</td>\n",
       "      <td>0.000000</td>\n",
       "    </tr>\n",
       "    <tr>\n",
       "      <th>Infant mortality</th>\n",
       "      <td>0</td>\n",
       "      <td>0.000000</td>\n",
       "    </tr>\n",
       "    <tr>\n",
       "      <th>Density\\n(P/Km2)</th>\n",
       "      <td>0</td>\n",
       "      <td>0.000000</td>\n",
       "    </tr>\n",
       "    <tr>\n",
       "      <th>GDP</th>\n",
       "      <td>0</td>\n",
       "      <td>0.000000</td>\n",
       "    </tr>\n",
       "    <tr>\n",
       "      <th>Gasoline Price</th>\n",
       "      <td>0</td>\n",
       "      <td>0.000000</td>\n",
       "    </tr>\n",
       "    <tr>\n",
       "      <th>Forested Area (%)</th>\n",
       "      <td>0</td>\n",
       "      <td>0.000000</td>\n",
       "    </tr>\n",
       "    <tr>\n",
       "      <th>Fertility Rate</th>\n",
       "      <td>0</td>\n",
       "      <td>0.000000</td>\n",
       "    </tr>\n",
       "    <tr>\n",
       "      <th>Co2-Emissions</th>\n",
       "      <td>0</td>\n",
       "      <td>0.000000</td>\n",
       "    </tr>\n",
       "    <tr>\n",
       "      <th>Calling Code</th>\n",
       "      <td>0</td>\n",
       "      <td>0.000000</td>\n",
       "    </tr>\n",
       "    <tr>\n",
       "      <th>Birth Rate</th>\n",
       "      <td>0</td>\n",
       "      <td>0.000000</td>\n",
       "    </tr>\n",
       "    <tr>\n",
       "      <th>Land Area(Km2)</th>\n",
       "      <td>0</td>\n",
       "      <td>0.000000</td>\n",
       "    </tr>\n",
       "    <tr>\n",
       "      <th>Agricultural Land( %)</th>\n",
       "      <td>0</td>\n",
       "      <td>0.000000</td>\n",
       "    </tr>\n",
       "    <tr>\n",
       "      <th>Abbreviation</th>\n",
       "      <td>0</td>\n",
       "      <td>0.000000</td>\n",
       "    </tr>\n",
       "    <tr>\n",
       "      <th>Longitude</th>\n",
       "      <td>0</td>\n",
       "      <td>0.000000</td>\n",
       "    </tr>\n",
       "  </tbody>\n",
       "</table>\n",
       "</div>"
      ],
      "text/plain": [
       "                                           count          %\n",
       "Minimum wage                                  12  19.047619\n",
       "Official language                              4   6.349206\n",
       "Currency-Code                                  3   4.761905\n",
       "Tax revenue (%)                                2   3.174603\n",
       "Gross primary education enrollment (%)         1   1.587302\n",
       "Life expectancy                                1   1.587302\n",
       "Maternal mortality ratio                       1   1.587302\n",
       "Gross tertiary education enrollment (%)        1   1.587302\n",
       "CPI Change (%)                                 1   1.587302\n",
       "CPI                                            1   1.587302\n",
       "Population: Labor force participation (%)      1   1.587302\n",
       "Capital/Major City                             1   1.587302\n",
       "Total tax rate                                 1   1.587302\n",
       "Armed Forces size                              1   1.587302\n",
       "Unemployment rate                              1   1.587302\n",
       "Largest city                                   1   1.587302\n",
       "Population                                     0   0.000000\n",
       "Physicians per thousand                        0   0.000000\n",
       "Out of pocket health expenditure               0   0.000000\n",
       "Urban_population                               0   0.000000\n",
       "Latitude                                       0   0.000000\n",
       "Country                                        0   0.000000\n",
       "Infant mortality                               0   0.000000\n",
       "Density\\n(P/Km2)                               0   0.000000\n",
       "GDP                                            0   0.000000\n",
       "Gasoline Price                                 0   0.000000\n",
       "Forested Area (%)                              0   0.000000\n",
       "Fertility Rate                                 0   0.000000\n",
       "Co2-Emissions                                  0   0.000000\n",
       "Calling Code                                   0   0.000000\n",
       "Birth Rate                                     0   0.000000\n",
       "Land Area(Km2)                                 0   0.000000\n",
       "Agricultural Land( %)                          0   0.000000\n",
       "Abbreviation                                   0   0.000000\n",
       "Longitude                                      0   0.000000"
      ]
     },
     "execution_count": 2215,
     "metadata": {},
     "output_type": "execute_result"
    }
   ],
   "source": [
    "missing_world = pd.concat([world_info.isnull().sum(), 100 * world_info.isnull().mean()], axis=1)\n",
    "missing_world.columns=['count', '%']\n",
    "missing_world = missing_world.sort_values(by='count', ascending=False)\n",
    "missing_world"
   ]
  },
  {
   "cell_type": "code",
   "execution_count": 2216,
   "id": "ea3a84a8-816a-48f2-97c9-f4b76a5ad8e9",
   "metadata": {
    "tags": []
   },
   "outputs": [
    {
     "name": "stdout",
     "output_type": "stream",
     "text": [
      "Страны с NaN в столбце 'Minimum wage':\n",
      "9                   Austria\n",
      "46                  Denmark\n",
      "51                    Egypt\n",
      "59                  Finland\n",
      "83                    Italy\n",
      "129                  Norway\n",
      "141                   Qatar\n",
      "156               Singapore\n",
      "161            South Africa\n",
      "168                  Sweden\n",
      "169             Switzerland\n",
      "184    United Arab Emirates\n",
      "Name: Country, dtype: object\n"
     ]
    }
   ],
   "source": [
    "# Find rows where the value in the 'Minimum wage' column is NaN\n",
    "nan_wage_countries = world_info[world_info['Minimum wage'].isna()]\n",
    "\n",
    "# Print countries where 'Minimum wage' is NaN\n",
    "print(\"Страны с NaN в столбце 'Minimum wage':\")\n",
    "print(nan_wage_countries['Country'])"
   ]
  },
  {
   "cell_type": "markdown",
   "id": "691fbf27-9324-412e-9588-d40e4aee22c8",
   "metadata": {},
   "source": [
    "Denmark, Finland, Austria, Italy, Norway, Singapore etc do not have a statutory minimum wage. Pay and employment conditions are, as a rule, regulated by collective agreements or are negotiated individually between employers and employees. \n",
    "\n",
    "https://www.linkedin.com/pulse/did-you-know-countries-minimum-wage-/\n",
    "\n",
    "https://wise.com/gb/blog/minimum-wage-guide-dubai"
   ]
  },
  {
   "cell_type": "markdown",
   "id": "bf74be83-3ad5-4e12-a2f8-c097c0de5f1d",
   "metadata": {},
   "source": [
    "Egypt https://wageindicator.org/salary/minimum-wage/egypt"
   ]
  },
  {
   "cell_type": "code",
   "execution_count": 2219,
   "id": "16aa34cf-fe51-472f-a607-c560304b09e2",
   "metadata": {
    "tags": []
   },
   "outputs": [],
   "source": [
    "# Find the index of the line where the country is 'Egypt'\n",
    "# Set a new minimum wage value, converted to US dollars (rounded to two decimal places)\n",
    "index_egypt = world_info[world_info['Country'] == 'Egypt'].index\n",
    "world_info.loc[index_egypt, 'Minimum wage'] = 0.70"
   ]
  },
  {
   "cell_type": "markdown",
   "id": "29719aea-7b69-46d8-9f10-6dd262c0cb75",
   "metadata": {},
   "source": [
    "Qatar https://www.trtworld.com/middle-east/qatar-extends-minimum-wage-of-275-to-all-as-world-cup-looms-45177"
   ]
  },
  {
   "cell_type": "code",
   "execution_count": 2221,
   "id": "202e138e-f6d2-4f56-b1d0-77d3f13f4fa3",
   "metadata": {
    "tags": []
   },
   "outputs": [],
   "source": [
    "# Find the index of the line where the country is 'Qatar'\n",
    "# Set a new minimum wage value, converted to US dollars (rounded to two decimal places)\n",
    "index_qatar = world_info[world_info['Country'] == 'Qatar'].index\n",
    "world_info.loc[index_qatar, 'Minimum wage'] = 1.30"
   ]
  },
  {
   "cell_type": "markdown",
   "id": "7fe204bf-08c0-48d5-94ea-b7308c543961",
   "metadata": {
    "tags": []
   },
   "source": [
    "SO, i chose to fill the info by mean values (or 0)????"
   ]
  },
  {
   "cell_type": "code",
   "execution_count": 2223,
   "id": "66a037c9-9137-4c53-96fe-89c7ab78d201",
   "metadata": {
    "tags": []
   },
   "outputs": [],
   "source": [
    "median_wage = world_info['Minimum wage'].median()\n",
    "world_info['Minimum wage'] = world_info['Minimum wage'].fillna(median_wage)"
   ]
  },
  {
   "cell_type": "code",
   "execution_count": 2224,
   "id": "6c09e92e-c3f7-4f8e-a6ba-51710be1ac11",
   "metadata": {
    "tags": []
   },
   "outputs": [
    {
     "data": {
      "text/html": [
       "<div>\n",
       "<style scoped>\n",
       "    .dataframe tbody tr th:only-of-type {\n",
       "        vertical-align: middle;\n",
       "    }\n",
       "\n",
       "    .dataframe tbody tr th {\n",
       "        vertical-align: top;\n",
       "    }\n",
       "\n",
       "    .dataframe thead th {\n",
       "        text-align: right;\n",
       "    }\n",
       "</style>\n",
       "<table border=\"1\" class=\"dataframe\">\n",
       "  <thead>\n",
       "    <tr style=\"text-align: right;\">\n",
       "      <th></th>\n",
       "      <th>Country</th>\n",
       "      <th>Density\\n(P/Km2)</th>\n",
       "      <th>Abbreviation</th>\n",
       "      <th>Agricultural Land( %)</th>\n",
       "      <th>Land Area(Km2)</th>\n",
       "      <th>Armed Forces size</th>\n",
       "      <th>Birth Rate</th>\n",
       "      <th>Calling Code</th>\n",
       "      <th>Capital/Major City</th>\n",
       "      <th>Co2-Emissions</th>\n",
       "      <th>...</th>\n",
       "      <th>Out of pocket health expenditure</th>\n",
       "      <th>Physicians per thousand</th>\n",
       "      <th>Population</th>\n",
       "      <th>Population: Labor force participation (%)</th>\n",
       "      <th>Tax revenue (%)</th>\n",
       "      <th>Total tax rate</th>\n",
       "      <th>Unemployment rate</th>\n",
       "      <th>Urban_population</th>\n",
       "      <th>Latitude</th>\n",
       "      <th>Longitude</th>\n",
       "    </tr>\n",
       "  </thead>\n",
       "  <tbody>\n",
       "    <tr>\n",
       "      <th>2</th>\n",
       "      <td>Algeria</td>\n",
       "      <td>18</td>\n",
       "      <td>DZ</td>\n",
       "      <td>17.40</td>\n",
       "      <td>2381741</td>\n",
       "      <td>317000</td>\n",
       "      <td>24.28</td>\n",
       "      <td>213.0</td>\n",
       "      <td>Algiers</td>\n",
       "      <td>150006</td>\n",
       "      <td>...</td>\n",
       "      <td>28.10</td>\n",
       "      <td>1.72</td>\n",
       "      <td>43053054</td>\n",
       "      <td>41.20</td>\n",
       "      <td>37.20</td>\n",
       "      <td>66.10</td>\n",
       "      <td>11.70</td>\n",
       "      <td>31510100</td>\n",
       "      <td>28.033886</td>\n",
       "      <td>1.659626</td>\n",
       "    </tr>\n",
       "    <tr>\n",
       "      <th>3</th>\n",
       "      <td>Andorra</td>\n",
       "      <td>164</td>\n",
       "      <td>AD</td>\n",
       "      <td>40.00</td>\n",
       "      <td>468</td>\n",
       "      <td>NaN</td>\n",
       "      <td>7.20</td>\n",
       "      <td>376.0</td>\n",
       "      <td>Andorra la Vella</td>\n",
       "      <td>469</td>\n",
       "      <td>...</td>\n",
       "      <td>36.40</td>\n",
       "      <td>3.33</td>\n",
       "      <td>77142</td>\n",
       "      <td>NaN</td>\n",
       "      <td>NaN</td>\n",
       "      <td>NaN</td>\n",
       "      <td>NaN</td>\n",
       "      <td>67873</td>\n",
       "      <td>42.506285</td>\n",
       "      <td>1.521801</td>\n",
       "    </tr>\n",
       "    <tr>\n",
       "      <th>6</th>\n",
       "      <td>Argentina</td>\n",
       "      <td>17</td>\n",
       "      <td>AR</td>\n",
       "      <td>54.30</td>\n",
       "      <td>2780400</td>\n",
       "      <td>105000</td>\n",
       "      <td>17.02</td>\n",
       "      <td>54.0</td>\n",
       "      <td>Buenos Aires</td>\n",
       "      <td>201348</td>\n",
       "      <td>...</td>\n",
       "      <td>17.60</td>\n",
       "      <td>3.96</td>\n",
       "      <td>44938712</td>\n",
       "      <td>61.30</td>\n",
       "      <td>10.10</td>\n",
       "      <td>106.30</td>\n",
       "      <td>9.79</td>\n",
       "      <td>41339571</td>\n",
       "      <td>-38.416097</td>\n",
       "      <td>-63.616672</td>\n",
       "    </tr>\n",
       "    <tr>\n",
       "      <th>7</th>\n",
       "      <td>Armenia</td>\n",
       "      <td>104</td>\n",
       "      <td>AM</td>\n",
       "      <td>58.90</td>\n",
       "      <td>29743</td>\n",
       "      <td>49000</td>\n",
       "      <td>13.99</td>\n",
       "      <td>374.0</td>\n",
       "      <td>Yerevan</td>\n",
       "      <td>5156</td>\n",
       "      <td>...</td>\n",
       "      <td>81.60</td>\n",
       "      <td>4.40</td>\n",
       "      <td>2957731</td>\n",
       "      <td>55.60</td>\n",
       "      <td>20.90</td>\n",
       "      <td>22.60</td>\n",
       "      <td>16.99</td>\n",
       "      <td>1869848</td>\n",
       "      <td>40.069099</td>\n",
       "      <td>45.038189</td>\n",
       "    </tr>\n",
       "    <tr>\n",
       "      <th>8</th>\n",
       "      <td>Australia</td>\n",
       "      <td>3</td>\n",
       "      <td>AU</td>\n",
       "      <td>48.20</td>\n",
       "      <td>7741220</td>\n",
       "      <td>58000</td>\n",
       "      <td>12.60</td>\n",
       "      <td>61.0</td>\n",
       "      <td>Canberra</td>\n",
       "      <td>375908</td>\n",
       "      <td>...</td>\n",
       "      <td>19.60</td>\n",
       "      <td>3.68</td>\n",
       "      <td>25766605</td>\n",
       "      <td>65.50</td>\n",
       "      <td>23.00</td>\n",
       "      <td>47.40</td>\n",
       "      <td>5.27</td>\n",
       "      <td>21844756</td>\n",
       "      <td>-25.274398</td>\n",
       "      <td>133.775136</td>\n",
       "    </tr>\n",
       "  </tbody>\n",
       "</table>\n",
       "<p>5 rows × 35 columns</p>\n",
       "</div>"
      ],
      "text/plain": [
       "     Country Density\\n(P/Km2) Abbreviation Agricultural Land( %)  \\\n",
       "2    Algeria               18           DZ                 17.40   \n",
       "3    Andorra              164           AD                 40.00   \n",
       "6  Argentina               17           AR                 54.30   \n",
       "7    Armenia              104           AM                 58.90   \n",
       "8  Australia                3           AU                 48.20   \n",
       "\n",
       "  Land Area(Km2) Armed Forces size  Birth Rate  Calling Code  \\\n",
       "2        2381741            317000       24.28         213.0   \n",
       "3            468               NaN        7.20         376.0   \n",
       "6        2780400            105000       17.02          54.0   \n",
       "7          29743             49000       13.99         374.0   \n",
       "8        7741220             58000       12.60          61.0   \n",
       "\n",
       "  Capital/Major City Co2-Emissions  ... Out of pocket health expenditure  \\\n",
       "2            Algiers        150006  ...                            28.10   \n",
       "3   Andorra la Vella           469  ...                            36.40   \n",
       "6       Buenos Aires        201348  ...                            17.60   \n",
       "7            Yerevan          5156  ...                            81.60   \n",
       "8           Canberra        375908  ...                            19.60   \n",
       "\n",
       "  Physicians per thousand Population  \\\n",
       "2                    1.72   43053054   \n",
       "3                    3.33      77142   \n",
       "6                    3.96   44938712   \n",
       "7                    4.40    2957731   \n",
       "8                    3.68   25766605   \n",
       "\n",
       "   Population: Labor force participation (%) Tax revenue (%) Total tax rate  \\\n",
       "2                                      41.20           37.20          66.10   \n",
       "3                                        NaN             NaN            NaN   \n",
       "6                                      61.30           10.10         106.30   \n",
       "7                                      55.60           20.90          22.60   \n",
       "8                                      65.50           23.00          47.40   \n",
       "\n",
       "  Unemployment rate Urban_population   Latitude   Longitude  \n",
       "2             11.70         31510100  28.033886    1.659626  \n",
       "3               NaN            67873  42.506285    1.521801  \n",
       "6              9.79         41339571 -38.416097  -63.616672  \n",
       "7             16.99          1869848  40.069099   45.038189  \n",
       "8              5.27         21844756 -25.274398  133.775136  \n",
       "\n",
       "[5 rows x 35 columns]"
      ]
     },
     "execution_count": 2224,
     "metadata": {},
     "output_type": "execute_result"
    }
   ],
   "source": [
    "world_info.head()"
   ]
  },
  {
   "cell_type": "markdown",
   "id": "5508fed8-0c65-4210-8108-273bc965fea0",
   "metadata": {},
   "source": [
    "need to clean all NAN values"
   ]
  },
  {
   "cell_type": "code",
   "execution_count": 2226,
   "id": "b45951ea-a278-448c-bc49-5b906eadc42b",
   "metadata": {
    "tags": []
   },
   "outputs": [
    {
     "name": "stdout",
     "output_type": "stream",
     "text": [
      "Countries with NaN in the 'Official language' column:\n",
      "8          Australia\n",
      "85             Japan\n",
      "110           Mexico\n",
      "186    United States\n",
      "Name: Country, dtype: object\n"
     ]
    }
   ],
   "source": [
    "# Find rows where the value in the 'Minimum wage' column is NaN\n",
    "nan_wage_countries = world_info[world_info['Official language'].isna()]\n",
    "\n",
    "# Print countries where 'Minimum wage' is NaN\n",
    "print(\"Countries with NaN in the 'Official language' column:\")\n",
    "print(nan_wage_countries['Country'])\n"
   ]
  },
  {
   "cell_type": "markdown",
   "id": "c1672355-d173-455f-9158-154619c2f8c9",
   "metadata": {},
   "source": [
    "Australia has no official language, but the national language of Australia is English. "
   ]
  },
  {
   "cell_type": "code",
   "execution_count": 2228,
   "id": "0e9f1307-1f69-4004-bf67-3498d8352ab8",
   "metadata": {
    "tags": []
   },
   "outputs": [],
   "source": [
    "index_australia = world_info[world_info['Country'] == 'Australia'].index\n",
    "world_info.loc[index_australia, 'Official language'] = 'English'"
   ]
  },
  {
   "cell_type": "code",
   "execution_count": 2229,
   "id": "ee9d4fe3-a150-4901-b35b-9a2e4c3276b2",
   "metadata": {
    "tags": []
   },
   "outputs": [],
   "source": [
    "index_japan = world_info[world_info['Country'] == 'Japan'].index\n",
    "world_info.loc[index_japan, 'Official language'] = 'Japanese'"
   ]
  },
  {
   "cell_type": "code",
   "execution_count": 2230,
   "id": "0841e140-9f5b-4582-b48f-f603ad9ebf3b",
   "metadata": {
    "tags": []
   },
   "outputs": [],
   "source": [
    "index_mexico = world_info[world_info['Country'] == 'Mexico'].index\n",
    "world_info.loc[index_mexico, 'Official language'] = 'Spanish'"
   ]
  },
  {
   "cell_type": "code",
   "execution_count": 2231,
   "id": "7bab53ad-2eb7-4116-a0c0-139b91c04e99",
   "metadata": {
    "tags": []
   },
   "outputs": [],
   "source": [
    "index_mexico = world_info[world_info['Country'] == 'United States'].index\n",
    "world_info.loc[index_mexico, 'Official language'] = 'Spanish'"
   ]
  },
  {
   "cell_type": "markdown",
   "id": "648b0a55-54e5-47bf-9675-874d86cab7ef",
   "metadata": {},
   "source": [
    "The United States does not have an official language. English is the most widely used language in the U.S"
   ]
  },
  {
   "cell_type": "code",
   "execution_count": 2233,
   "id": "83a0029a-74c1-4d37-a39a-5ad917769e4a",
   "metadata": {
    "tags": []
   },
   "outputs": [],
   "source": [
    "index_usa = world_info[world_info['Country'] == 'Mexico'].index\n",
    "world_info.loc[index_usa, 'Official language'] = 'Eglish'"
   ]
  },
  {
   "cell_type": "code",
   "execution_count": 2234,
   "id": "d52f1bf9-a8a2-4028-b926-d22d319e5a2d",
   "metadata": {
    "tags": []
   },
   "outputs": [],
   "source": [
    "assert world_info['Official language'].notna().all(), \"Есть NaN значения в 'Official language'\""
   ]
  },
  {
   "cell_type": "code",
   "execution_count": 2235,
   "id": "977fcea2-37c1-4345-9d17-62c20dad9928",
   "metadata": {
    "tags": []
   },
   "outputs": [
    {
     "name": "stdout",
     "output_type": "stream",
     "text": [
      "Countries with NaN in the 'Currency-Code':\n",
      "33     Central African Republic\n",
      "85                        Japan\n",
      "122                 Netherlands\n",
      "Name: Country, dtype: object\n"
     ]
    }
   ],
   "source": [
    "# Find rows where the value in the 'Minimum wage' column is NaN\n",
    "nan_wage_countries = world_info[world_info['Currency-Code'].isna()]\n",
    "\n",
    "print(\"Countries with NaN in the 'Currency-Code':\")\n",
    "print(nan_wage_countries['Country'])"
   ]
  },
  {
   "cell_type": "code",
   "execution_count": 2236,
   "id": "be1b49b0-8202-4144-ab11-c6862743bdf7",
   "metadata": {
    "tags": []
   },
   "outputs": [],
   "source": [
    "index_car = world_info[world_info['Country'] == 'Central African Republic'].index\n",
    "world_info.loc[index_car, 'Currency-Code'] = 'CAF'"
   ]
  },
  {
   "cell_type": "code",
   "execution_count": 2237,
   "id": "6bf60eed-e860-4e62-b06b-0dd9e7449ca3",
   "metadata": {
    "tags": []
   },
   "outputs": [],
   "source": [
    "index_japancc = world_info[world_info['Country'] == 'Japan'].index\n",
    "world_info.loc[index_japancc, 'Currency-Code'] = 'JPY'"
   ]
  },
  {
   "cell_type": "code",
   "execution_count": 2238,
   "id": "3c7e38e5-e4e5-4884-85a5-5186b501103f",
   "metadata": {
    "tags": []
   },
   "outputs": [],
   "source": [
    "index_netherlands = world_info[world_info['Country'] == 'Netherlands'].index\n",
    "world_info.loc[index_netherlands, 'Currency-Code'] = 'EUR'"
   ]
  },
  {
   "cell_type": "code",
   "execution_count": 2239,
   "id": "8d8fb43a-a80d-406f-bd54-96322f8225b4",
   "metadata": {
    "tags": []
   },
   "outputs": [],
   "source": [
    "assert world_info['Currency-Code'].notna().all(), \"Есть NaN значения в 'Currency-Code\""
   ]
  },
  {
   "cell_type": "code",
   "execution_count": 2240,
   "id": "07cb9355-0a1c-4373-834e-eb961db8474e",
   "metadata": {
    "tags": []
   },
   "outputs": [
    {
     "name": "stdout",
     "output_type": "stream",
     "text": [
      "Countries with NaN in the'Capital/Major City':\n",
      "156    Singapore\n",
      "Name: Country, dtype: object\n"
     ]
    }
   ],
   "source": [
    "nan_wage_countries = world_info[world_info['Capital/Major City'].isna()]\n",
    "print(\"Countries with NaN in the'Capital/Major City':\")\n",
    "print(nan_wage_countries['Country'])"
   ]
  },
  {
   "cell_type": "code",
   "execution_count": 2241,
   "id": "d7a63d7f-cfab-4169-8c4a-6bb1663f6305",
   "metadata": {
    "tags": []
   },
   "outputs": [],
   "source": [
    "index_singapore = world_info[world_info['Country'] == 'Singapore'].index\n",
    "world_info.loc[index_singapore, 'Capital/Major City'] = 'Singapore'"
   ]
  },
  {
   "cell_type": "code",
   "execution_count": 2242,
   "id": "7e71ce57-f8e7-4033-9a8f-f2ee85fbf05c",
   "metadata": {
    "tags": []
   },
   "outputs": [],
   "source": [
    "index_singapore = world_info[world_info['Country'] == 'Singapore'].index\n",
    "world_info.loc[index_singapore, 'Largest city'] = 'Singapore'"
   ]
  },
  {
   "cell_type": "code",
   "execution_count": 2243,
   "id": "325fe9c3-82e8-4315-85d2-03757126ed2c",
   "metadata": {
    "tags": []
   },
   "outputs": [],
   "source": [
    "assert world_info['Capital/Major City'].notna().all(), \"There are NaN values in 'Capital/Major City'\""
   ]
  },
  {
   "cell_type": "code",
   "execution_count": 2244,
   "id": "23d74325-3c8b-420e-afa4-90928f1bf439",
   "metadata": {
    "tags": []
   },
   "outputs": [],
   "source": [
    "# Remove lines where there is NaN in the 'Life expectancy' column ANDORRA\n",
    "world_info = world_info.dropna(subset=['Life expectancy'])"
   ]
  },
  {
   "cell_type": "code",
   "execution_count": 2245,
   "id": "a50599b2-c595-432a-a124-2c609826441f",
   "metadata": {
    "tags": []
   },
   "outputs": [],
   "source": [
    "# Remove rows where there is NaN in the 'Gross primary education enrollment (%)' column Bosnia\n",
    "world_info = world_info.dropna(subset=['Gross primary education enrollment (%)'])"
   ]
  },
  {
   "cell_type": "code",
   "execution_count": 2246,
   "id": "bf2556a7-43c1-481a-84c2-ff09c5cd5cc9",
   "metadata": {
    "tags": []
   },
   "outputs": [],
   "source": [
    "# Remove rows where there is NaN in the 'Tax revenue (%)' Bosnia\n",
    "world_info = world_info.dropna(subset=['Tax revenue (%)'])"
   ]
  },
  {
   "cell_type": "code",
   "execution_count": 2247,
   "id": "040ed913-5bfa-44bb-9763-fa780db3e7df",
   "metadata": {
    "tags": []
   },
   "outputs": [
    {
     "data": {
      "text/html": [
       "<div>\n",
       "<style scoped>\n",
       "    .dataframe tbody tr th:only-of-type {\n",
       "        vertical-align: middle;\n",
       "    }\n",
       "\n",
       "    .dataframe tbody tr th {\n",
       "        vertical-align: top;\n",
       "    }\n",
       "\n",
       "    .dataframe thead th {\n",
       "        text-align: right;\n",
       "    }\n",
       "</style>\n",
       "<table border=\"1\" class=\"dataframe\">\n",
       "  <thead>\n",
       "    <tr style=\"text-align: right;\">\n",
       "      <th></th>\n",
       "      <th>count</th>\n",
       "      <th>%</th>\n",
       "    </tr>\n",
       "  </thead>\n",
       "  <tbody>\n",
       "    <tr>\n",
       "      <th>Country</th>\n",
       "      <td>0</td>\n",
       "      <td>0.0</td>\n",
       "    </tr>\n",
       "    <tr>\n",
       "      <th>Physicians per thousand</th>\n",
       "      <td>0</td>\n",
       "      <td>0.0</td>\n",
       "    </tr>\n",
       "    <tr>\n",
       "      <th>Largest city</th>\n",
       "      <td>0</td>\n",
       "      <td>0.0</td>\n",
       "    </tr>\n",
       "    <tr>\n",
       "      <th>Life expectancy</th>\n",
       "      <td>0</td>\n",
       "      <td>0.0</td>\n",
       "    </tr>\n",
       "    <tr>\n",
       "      <th>Maternal mortality ratio</th>\n",
       "      <td>0</td>\n",
       "      <td>0.0</td>\n",
       "    </tr>\n",
       "    <tr>\n",
       "      <th>Minimum wage</th>\n",
       "      <td>0</td>\n",
       "      <td>0.0</td>\n",
       "    </tr>\n",
       "    <tr>\n",
       "      <th>Official language</th>\n",
       "      <td>0</td>\n",
       "      <td>0.0</td>\n",
       "    </tr>\n",
       "    <tr>\n",
       "      <th>Out of pocket health expenditure</th>\n",
       "      <td>0</td>\n",
       "      <td>0.0</td>\n",
       "    </tr>\n",
       "    <tr>\n",
       "      <th>Population</th>\n",
       "      <td>0</td>\n",
       "      <td>0.0</td>\n",
       "    </tr>\n",
       "    <tr>\n",
       "      <th>Gross tertiary education enrollment (%)</th>\n",
       "      <td>0</td>\n",
       "      <td>0.0</td>\n",
       "    </tr>\n",
       "    <tr>\n",
       "      <th>Population: Labor force participation (%)</th>\n",
       "      <td>0</td>\n",
       "      <td>0.0</td>\n",
       "    </tr>\n",
       "    <tr>\n",
       "      <th>Tax revenue (%)</th>\n",
       "      <td>0</td>\n",
       "      <td>0.0</td>\n",
       "    </tr>\n",
       "    <tr>\n",
       "      <th>Total tax rate</th>\n",
       "      <td>0</td>\n",
       "      <td>0.0</td>\n",
       "    </tr>\n",
       "    <tr>\n",
       "      <th>Unemployment rate</th>\n",
       "      <td>0</td>\n",
       "      <td>0.0</td>\n",
       "    </tr>\n",
       "    <tr>\n",
       "      <th>Urban_population</th>\n",
       "      <td>0</td>\n",
       "      <td>0.0</td>\n",
       "    </tr>\n",
       "    <tr>\n",
       "      <th>Latitude</th>\n",
       "      <td>0</td>\n",
       "      <td>0.0</td>\n",
       "    </tr>\n",
       "    <tr>\n",
       "      <th>Infant mortality</th>\n",
       "      <td>0</td>\n",
       "      <td>0.0</td>\n",
       "    </tr>\n",
       "    <tr>\n",
       "      <th>Gross primary education enrollment (%)</th>\n",
       "      <td>0</td>\n",
       "      <td>0.0</td>\n",
       "    </tr>\n",
       "    <tr>\n",
       "      <th>Density\\n(P/Km2)</th>\n",
       "      <td>0</td>\n",
       "      <td>0.0</td>\n",
       "    </tr>\n",
       "    <tr>\n",
       "      <th>Capital/Major City</th>\n",
       "      <td>0</td>\n",
       "      <td>0.0</td>\n",
       "    </tr>\n",
       "    <tr>\n",
       "      <th>Abbreviation</th>\n",
       "      <td>0</td>\n",
       "      <td>0.0</td>\n",
       "    </tr>\n",
       "    <tr>\n",
       "      <th>Agricultural Land( %)</th>\n",
       "      <td>0</td>\n",
       "      <td>0.0</td>\n",
       "    </tr>\n",
       "    <tr>\n",
       "      <th>Land Area(Km2)</th>\n",
       "      <td>0</td>\n",
       "      <td>0.0</td>\n",
       "    </tr>\n",
       "    <tr>\n",
       "      <th>Armed Forces size</th>\n",
       "      <td>0</td>\n",
       "      <td>0.0</td>\n",
       "    </tr>\n",
       "    <tr>\n",
       "      <th>Birth Rate</th>\n",
       "      <td>0</td>\n",
       "      <td>0.0</td>\n",
       "    </tr>\n",
       "    <tr>\n",
       "      <th>Calling Code</th>\n",
       "      <td>0</td>\n",
       "      <td>0.0</td>\n",
       "    </tr>\n",
       "    <tr>\n",
       "      <th>Co2-Emissions</th>\n",
       "      <td>0</td>\n",
       "      <td>0.0</td>\n",
       "    </tr>\n",
       "    <tr>\n",
       "      <th>GDP</th>\n",
       "      <td>0</td>\n",
       "      <td>0.0</td>\n",
       "    </tr>\n",
       "    <tr>\n",
       "      <th>CPI</th>\n",
       "      <td>0</td>\n",
       "      <td>0.0</td>\n",
       "    </tr>\n",
       "    <tr>\n",
       "      <th>CPI Change (%)</th>\n",
       "      <td>0</td>\n",
       "      <td>0.0</td>\n",
       "    </tr>\n",
       "    <tr>\n",
       "      <th>Currency-Code</th>\n",
       "      <td>0</td>\n",
       "      <td>0.0</td>\n",
       "    </tr>\n",
       "    <tr>\n",
       "      <th>Fertility Rate</th>\n",
       "      <td>0</td>\n",
       "      <td>0.0</td>\n",
       "    </tr>\n",
       "    <tr>\n",
       "      <th>Forested Area (%)</th>\n",
       "      <td>0</td>\n",
       "      <td>0.0</td>\n",
       "    </tr>\n",
       "    <tr>\n",
       "      <th>Gasoline Price</th>\n",
       "      <td>0</td>\n",
       "      <td>0.0</td>\n",
       "    </tr>\n",
       "    <tr>\n",
       "      <th>Longitude</th>\n",
       "      <td>0</td>\n",
       "      <td>0.0</td>\n",
       "    </tr>\n",
       "  </tbody>\n",
       "</table>\n",
       "</div>"
      ],
      "text/plain": [
       "                                           count    %\n",
       "Country                                        0  0.0\n",
       "Physicians per thousand                        0  0.0\n",
       "Largest city                                   0  0.0\n",
       "Life expectancy                                0  0.0\n",
       "Maternal mortality ratio                       0  0.0\n",
       "Minimum wage                                   0  0.0\n",
       "Official language                              0  0.0\n",
       "Out of pocket health expenditure               0  0.0\n",
       "Population                                     0  0.0\n",
       "Gross tertiary education enrollment (%)        0  0.0\n",
       "Population: Labor force participation (%)      0  0.0\n",
       "Tax revenue (%)                                0  0.0\n",
       "Total tax rate                                 0  0.0\n",
       "Unemployment rate                              0  0.0\n",
       "Urban_population                               0  0.0\n",
       "Latitude                                       0  0.0\n",
       "Infant mortality                               0  0.0\n",
       "Gross primary education enrollment (%)         0  0.0\n",
       "Density\\n(P/Km2)                               0  0.0\n",
       "Capital/Major City                             0  0.0\n",
       "Abbreviation                                   0  0.0\n",
       "Agricultural Land( %)                          0  0.0\n",
       "Land Area(Km2)                                 0  0.0\n",
       "Armed Forces size                              0  0.0\n",
       "Birth Rate                                     0  0.0\n",
       "Calling Code                                   0  0.0\n",
       "Co2-Emissions                                  0  0.0\n",
       "GDP                                            0  0.0\n",
       "CPI                                            0  0.0\n",
       "CPI Change (%)                                 0  0.0\n",
       "Currency-Code                                  0  0.0\n",
       "Fertility Rate                                 0  0.0\n",
       "Forested Area (%)                              0  0.0\n",
       "Gasoline Price                                 0  0.0\n",
       "Longitude                                      0  0.0"
      ]
     },
     "execution_count": 2247,
     "metadata": {},
     "output_type": "execute_result"
    }
   ],
   "source": [
    "missing_world = pd.concat([world_info.isnull().sum(), 100 * world_info.isnull().mean()], axis=1)\n",
    "missing_world.columns=['count', '%']\n",
    "missing_world = missing_world.sort_values(by='count', ascending=False)\n",
    "missing_world"
   ]
  },
  {
   "cell_type": "code",
   "execution_count": 2248,
   "id": "b2622caa-774a-4fd6-ab5b-11438fc9ba7b",
   "metadata": {
    "tags": []
   },
   "outputs": [],
   "source": [
    "assert world_info.notna().all().all(), \"Есть NaN значения\""
   ]
  },
  {
   "cell_type": "markdown",
   "id": "0bcfb53f-0ba6-48de-9c79-6724b8535c56",
   "metadata": {
    "tags": []
   },
   "source": [
    "### Data Cleaning in Salaries"
   ]
  },
  {
   "cell_type": "code",
   "execution_count": 2250,
   "id": "82671a5c-df44-4802-8900-2ffec8e15e29",
   "metadata": {
    "tags": []
   },
   "outputs": [
    {
     "name": "stdout",
     "output_type": "stream",
     "text": [
      "Number of duplicates in DataFrame: 22927\n"
     ]
    }
   ],
   "source": [
    "duplicates = salaries.duplicated()\n",
    "num_duplicates = duplicates.sum()\n",
    "print(\"Number of duplicates in DataFrame:\", num_duplicates)"
   ]
  },
  {
   "cell_type": "code",
   "execution_count": 2251,
   "id": "58880bd3-88df-4eee-a61e-cb29759b5e8d",
   "metadata": {
    "tags": []
   },
   "outputs": [
    {
     "data": {
      "text/plain": [
       "(28668, 11)"
      ]
     },
     "execution_count": 2251,
     "metadata": {},
     "output_type": "execute_result"
    }
   ],
   "source": [
    "salaries.shape"
   ]
  },
  {
   "cell_type": "code",
   "execution_count": 2252,
   "id": "d22e06a7-abfe-46ec-8694-9f6b9b526af0",
   "metadata": {
    "tags": []
   },
   "outputs": [],
   "source": [
    "salaries = salaries.drop_duplicates()"
   ]
  },
  {
   "cell_type": "code",
   "execution_count": 2253,
   "id": "b32cdcc4-3046-4497-a9b4-27d488f809ef",
   "metadata": {
    "tags": []
   },
   "outputs": [
    {
     "data": {
      "text/plain": [
       "(5741, 11)"
      ]
     },
     "execution_count": 2253,
     "metadata": {},
     "output_type": "execute_result"
    }
   ],
   "source": [
    "salaries.shape"
   ]
  },
  {
   "cell_type": "code",
   "execution_count": 2254,
   "id": "ec1219be-5f7c-43c0-9eee-b7dca81be4db",
   "metadata": {
    "tags": []
   },
   "outputs": [
    {
     "data": {
      "text/html": [
       "<div>\n",
       "<style scoped>\n",
       "    .dataframe tbody tr th:only-of-type {\n",
       "        vertical-align: middle;\n",
       "    }\n",
       "\n",
       "    .dataframe tbody tr th {\n",
       "        vertical-align: top;\n",
       "    }\n",
       "\n",
       "    .dataframe thead th {\n",
       "        text-align: right;\n",
       "    }\n",
       "</style>\n",
       "<table border=\"1\" class=\"dataframe\">\n",
       "  <thead>\n",
       "    <tr style=\"text-align: right;\">\n",
       "      <th></th>\n",
       "      <th>Job Title</th>\n",
       "      <th>Employment Type</th>\n",
       "      <th>Experience Level</th>\n",
       "      <th>Expertise Level</th>\n",
       "      <th>Salary</th>\n",
       "      <th>Salary Currency</th>\n",
       "      <th>Company Location</th>\n",
       "      <th>Salary in USD</th>\n",
       "      <th>Employee Residence</th>\n",
       "      <th>Company Size</th>\n",
       "      <th>Year</th>\n",
       "    </tr>\n",
       "  </thead>\n",
       "  <tbody>\n",
       "    <tr>\n",
       "      <th>0</th>\n",
       "      <td>Data Engineer</td>\n",
       "      <td>Full-Time</td>\n",
       "      <td>Senior</td>\n",
       "      <td>Expert</td>\n",
       "      <td>210000</td>\n",
       "      <td>United States Dollar</td>\n",
       "      <td>United States</td>\n",
       "      <td>210000</td>\n",
       "      <td>United States</td>\n",
       "      <td>Medium</td>\n",
       "      <td>2023</td>\n",
       "    </tr>\n",
       "    <tr>\n",
       "      <th>1</th>\n",
       "      <td>Data Engineer</td>\n",
       "      <td>Full-Time</td>\n",
       "      <td>Senior</td>\n",
       "      <td>Expert</td>\n",
       "      <td>165000</td>\n",
       "      <td>United States Dollar</td>\n",
       "      <td>United States</td>\n",
       "      <td>165000</td>\n",
       "      <td>United States</td>\n",
       "      <td>Medium</td>\n",
       "      <td>2023</td>\n",
       "    </tr>\n",
       "    <tr>\n",
       "      <th>2</th>\n",
       "      <td>Data Engineer</td>\n",
       "      <td>Full-Time</td>\n",
       "      <td>Senior</td>\n",
       "      <td>Expert</td>\n",
       "      <td>185900</td>\n",
       "      <td>United States Dollar</td>\n",
       "      <td>United States</td>\n",
       "      <td>185900</td>\n",
       "      <td>United States</td>\n",
       "      <td>Medium</td>\n",
       "      <td>2023</td>\n",
       "    </tr>\n",
       "    <tr>\n",
       "      <th>3</th>\n",
       "      <td>Data Engineer</td>\n",
       "      <td>Full-Time</td>\n",
       "      <td>Senior</td>\n",
       "      <td>Expert</td>\n",
       "      <td>129300</td>\n",
       "      <td>United States Dollar</td>\n",
       "      <td>United States</td>\n",
       "      <td>129300</td>\n",
       "      <td>United States</td>\n",
       "      <td>Medium</td>\n",
       "      <td>2023</td>\n",
       "    </tr>\n",
       "    <tr>\n",
       "      <th>4</th>\n",
       "      <td>Data Scientist</td>\n",
       "      <td>Full-Time</td>\n",
       "      <td>Senior</td>\n",
       "      <td>Expert</td>\n",
       "      <td>140000</td>\n",
       "      <td>United States Dollar</td>\n",
       "      <td>United States</td>\n",
       "      <td>140000</td>\n",
       "      <td>United States</td>\n",
       "      <td>Medium</td>\n",
       "      <td>2023</td>\n",
       "    </tr>\n",
       "  </tbody>\n",
       "</table>\n",
       "</div>"
      ],
      "text/plain": [
       "        Job Title Employment Type Experience Level Expertise Level  Salary  \\\n",
       "0   Data Engineer       Full-Time           Senior          Expert  210000   \n",
       "1   Data Engineer       Full-Time           Senior          Expert  165000   \n",
       "2   Data Engineer       Full-Time           Senior          Expert  185900   \n",
       "3   Data Engineer       Full-Time           Senior          Expert  129300   \n",
       "4  Data Scientist       Full-Time           Senior          Expert  140000   \n",
       "\n",
       "        Salary Currency Company Location  Salary in USD Employee Residence  \\\n",
       "0  United States Dollar    United States         210000      United States   \n",
       "1  United States Dollar    United States         165000      United States   \n",
       "2  United States Dollar    United States         185900      United States   \n",
       "3  United States Dollar    United States         129300      United States   \n",
       "4  United States Dollar    United States         140000      United States   \n",
       "\n",
       "  Company Size  Year  \n",
       "0       Medium  2023  \n",
       "1       Medium  2023  \n",
       "2       Medium  2023  \n",
       "3       Medium  2023  \n",
       "4       Medium  2023  "
      ]
     },
     "execution_count": 2254,
     "metadata": {},
     "output_type": "execute_result"
    }
   ],
   "source": [
    "salaries.head()"
   ]
  },
  {
   "cell_type": "code",
   "execution_count": 2255,
   "id": "d183ce35-1414-4419-a0e8-c525295fb3f7",
   "metadata": {
    "tags": []
   },
   "outputs": [
    {
     "name": "stdout",
     "output_type": "stream",
     "text": [
      "['United States' 'United Kingdom' 'Germany' 'Sweden' 'India'\n",
      " 'Korea, Republic of' 'Spain' 'Estonia' 'France' 'Philippines' 'Canada'\n",
      " 'Australia' 'Turkey' 'Portugal' 'Brazil' 'Switzerland' 'Andorra'\n",
      " 'Netherlands' 'Ecuador' 'Mexico' 'Israel' 'Nigeria' 'Saudi Arabia'\n",
      " 'Colombia' 'Poland' 'Norway' 'Ghana' 'Argentina' 'Japan'\n",
      " 'Russian Federation' 'South Africa' 'Italy' 'Hong Kong'\n",
      " 'Central African Republic' 'Finland' 'Ukraine' 'Ireland' 'Singapore'\n",
      " 'Slovenia' 'Thailand' 'Croatia' 'Armenia' 'Bosnia and Herzegovina'\n",
      " 'Kenya' 'Latvia' 'Romania' 'Pakistan' 'Lithuania'\n",
      " 'Iran, Islamic Republic of' 'Bahamas' 'Hungary' 'Austria' 'Puerto Rico'\n",
      " 'American Samoa' 'Greece' 'Denmark' 'Belgium' 'Indonesia' 'Egypt'\n",
      " 'United Arab Emirates' 'Malaysia' 'Honduras' 'Czechia' 'Algeria' 'Iraq'\n",
      " 'China' 'New Zealand' 'Chile' 'Moldova, Republic of' 'Luxembourg' 'Malta'\n",
      " 'Qatar' 'Gibraltar' 'Mauritius' 'Viet Nam']\n"
     ]
    }
   ],
   "source": [
    "company_in_salaries = salaries['Company Location'].unique()\n",
    "print(company_in_salaries)"
   ]
  },
  {
   "cell_type": "code",
   "execution_count": 2256,
   "id": "58e13238-110b-4205-9207-e7932ef280b4",
   "metadata": {
    "tags": []
   },
   "outputs": [
    {
     "name": "stdout",
     "output_type": "stream",
     "text": [
      "['Data Engineer' 'Data Scientist' 'Analytics Engineer'\n",
      " 'Business Intelligence Developer' 'Machine Learning Engineer'\n",
      " 'Data Analyst' 'Decision Scientist' 'Machine Learning Software Engineer'\n",
      " 'BI Developer' 'Machine Learning Scientist' 'BI Analyst' 'Data Manager'\n",
      " 'Business Intelligence Engineer' 'ML Engineer' 'Data Science Manager'\n",
      " 'AI Programmer' 'Applied Scientist' 'Data Analytics Manager'\n",
      " 'Research Engineer' 'Research Scientist' 'Data Lead' 'Data Strategist'\n",
      " 'Data Quality Analyst' 'Data Architect' 'AI Architect'\n",
      " 'Computer Vision Engineer' 'Business Intelligence Analyst'\n",
      " 'Principal Data Scientist' 'Staff Machine Learning Engineer'\n",
      " 'Staff Data Scientist' 'Consultant Data Engineer'\n",
      " 'Machine Learning Specialist' 'Head of Data' 'Data Quality Engineer'\n",
      " 'Research Analyst' 'Principal Machine Learning Engineer'\n",
      " 'Deep Learning Engineer' 'Data Visualization Specialist' 'MLOps Engineer'\n",
      " 'Business Intelligence Data Analyst' 'Data Science Engineer'\n",
      " 'Data Operations Manager' 'Data Specialist' 'Head of Data Science'\n",
      " 'Lead Machine Learning Engineer' 'AI Scientist'\n",
      " 'Managing Director Data Science' 'Data Modeller' 'Finance Data Analyst'\n",
      " 'Software Data Engineer' 'Machine Learning Research Engineer'\n",
      " 'Compliance Data Analyst' 'Data Operations Specialist'\n",
      " 'Business Data Analyst' 'Data Engineer 2' 'Data Science Consultant'\n",
      " 'Cloud Data Engineer' 'Analytics Engineering Manager'\n",
      " 'Machine Learning Infrastructure Engineer' 'Director of Data Science'\n",
      " 'Insight Analyst' 'ETL Developer' 'NLP Engineer'\n",
      " 'Data Operations Engineer' 'Staff Data Analyst'\n",
      " 'Applied Machine Learning Scientist' 'AWS Data Architect'\n",
      " 'Product Data Analyst' 'BI Data Analyst' 'Machine Learning Developer'\n",
      " 'Data Integration Specialist' 'Data Visualization Analyst'\n",
      " 'Autonomous Vehicle Technician' 'Data Modeler' 'Sales Data Analyst'\n",
      " 'Data Operations Analyst' 'Data Science Lead'\n",
      " 'Applied Machine Learning Engineer' 'Applied Data Scientist'\n",
      " 'ETL Engineer' 'Data DevOps Engineer' 'AI Developer'\n",
      " 'Machine Learning Researcher' 'Big Data Engineer' 'Lead Data Analyst'\n",
      " 'BI Data Engineer' 'Lead Data Scientist' 'Cloud Database Engineer'\n",
      " 'Financial Data Analyst' 'Data Infrastructure Engineer'\n",
      " 'Deep Learning Researcher' 'Data Analytics Specialist'\n",
      " 'Big Data Architect' 'Computer Vision Software Engineer'\n",
      " 'Azure Data Engineer' 'Marketing Data Engineer' 'Data Analytics Lead'\n",
      " 'Manager Data Management' 'Data Analytics Consultant'\n",
      " 'Data Management Specialist' 'Data Science Tech Lead'\n",
      " 'Data Scientist Lead' 'Marketing Data Analyst' 'Principal Data Architect'\n",
      " 'Machine Learning Manager' 'Data Analytics Engineer'\n",
      " 'Cloud Data Architect' 'Lead Data Engineer' 'Head of Machine Learning'\n",
      " 'Principal Data Analyst' 'Principal Data Engineer' 'AI Engineer'\n",
      " 'Data Visualization Engineer' 'AI Research Engineer' 'Power BI Developer'\n",
      " 'Data Science Practitioner' 'Data Developer'\n",
      " 'Machine Learning Operations Engineer' 'Data Strategy Manager'\n",
      " 'Bear Robotics' 'Data Product Manager' 'Data Product Owner'\n",
      " 'Data Science Director' 'Data Management Analyst'\n",
      " 'Machine Learning Modeler' 'Data Integration Engineer'\n",
      " 'Business Intelligence Manager' 'Business Intelligence Specialist'\n",
      " 'Data Science' 'Prompt Engineer' 'Data Quality Manager'\n",
      " 'AI Product Manager' 'Data Analyst Lead' 'Marketing Data Scientist']\n"
     ]
    }
   ],
   "source": [
    "job_in_salaries = salaries['Job Title'].unique()\n",
    "print(job_in_salaries)"
   ]
  },
  {
   "cell_type": "code",
   "execution_count": 2257,
   "id": "416f65d4-df58-4f24-b59b-cc648fa7aa28",
   "metadata": {
    "tags": []
   },
   "outputs": [],
   "source": [
    "missing_salary = pd.concat([salaries.isnull().sum(), 100 * salaries.isnull().mean()], axis=1)\n",
    "missing_salary.columns=['count', '%']\n",
    "missing_salary = missing_salary.sort_values(by='count', ascending=False)"
   ]
  },
  {
   "cell_type": "code",
   "execution_count": 2258,
   "id": "4e767738-44eb-4b35-aa0c-22a2c2b238aa",
   "metadata": {
    "tags": []
   },
   "outputs": [
    {
     "data": {
      "text/html": [
       "<div>\n",
       "<style scoped>\n",
       "    .dataframe tbody tr th:only-of-type {\n",
       "        vertical-align: middle;\n",
       "    }\n",
       "\n",
       "    .dataframe tbody tr th {\n",
       "        vertical-align: top;\n",
       "    }\n",
       "\n",
       "    .dataframe thead th {\n",
       "        text-align: right;\n",
       "    }\n",
       "</style>\n",
       "<table border=\"1\" class=\"dataframe\">\n",
       "  <thead>\n",
       "    <tr style=\"text-align: right;\">\n",
       "      <th></th>\n",
       "      <th>count</th>\n",
       "      <th>%</th>\n",
       "    </tr>\n",
       "  </thead>\n",
       "  <tbody>\n",
       "    <tr>\n",
       "      <th>Job Title</th>\n",
       "      <td>0</td>\n",
       "      <td>0.0</td>\n",
       "    </tr>\n",
       "    <tr>\n",
       "      <th>Employment Type</th>\n",
       "      <td>0</td>\n",
       "      <td>0.0</td>\n",
       "    </tr>\n",
       "    <tr>\n",
       "      <th>Experience Level</th>\n",
       "      <td>0</td>\n",
       "      <td>0.0</td>\n",
       "    </tr>\n",
       "    <tr>\n",
       "      <th>Expertise Level</th>\n",
       "      <td>0</td>\n",
       "      <td>0.0</td>\n",
       "    </tr>\n",
       "    <tr>\n",
       "      <th>Salary</th>\n",
       "      <td>0</td>\n",
       "      <td>0.0</td>\n",
       "    </tr>\n",
       "    <tr>\n",
       "      <th>Salary Currency</th>\n",
       "      <td>0</td>\n",
       "      <td>0.0</td>\n",
       "    </tr>\n",
       "    <tr>\n",
       "      <th>Company Location</th>\n",
       "      <td>0</td>\n",
       "      <td>0.0</td>\n",
       "    </tr>\n",
       "    <tr>\n",
       "      <th>Salary in USD</th>\n",
       "      <td>0</td>\n",
       "      <td>0.0</td>\n",
       "    </tr>\n",
       "    <tr>\n",
       "      <th>Employee Residence</th>\n",
       "      <td>0</td>\n",
       "      <td>0.0</td>\n",
       "    </tr>\n",
       "    <tr>\n",
       "      <th>Company Size</th>\n",
       "      <td>0</td>\n",
       "      <td>0.0</td>\n",
       "    </tr>\n",
       "    <tr>\n",
       "      <th>Year</th>\n",
       "      <td>0</td>\n",
       "      <td>0.0</td>\n",
       "    </tr>\n",
       "  </tbody>\n",
       "</table>\n",
       "</div>"
      ],
      "text/plain": [
       "                    count    %\n",
       "Job Title               0  0.0\n",
       "Employment Type         0  0.0\n",
       "Experience Level        0  0.0\n",
       "Expertise Level         0  0.0\n",
       "Salary                  0  0.0\n",
       "Salary Currency         0  0.0\n",
       "Company Location        0  0.0\n",
       "Salary in USD           0  0.0\n",
       "Employee Residence      0  0.0\n",
       "Company Size            0  0.0\n",
       "Year                    0  0.0"
      ]
     },
     "execution_count": 2258,
     "metadata": {},
     "output_type": "execute_result"
    }
   ],
   "source": [
    "missing_salary"
   ]
  },
  {
   "cell_type": "markdown",
   "id": "4d2afb43-195b-4c3e-bba7-9bc67dcb5bbe",
   "metadata": {
    "tags": []
   },
   "source": [
    "### Data type correction"
   ]
  },
  {
   "cell_type": "code",
   "execution_count": 2260,
   "id": "abda2535-3fd2-40ba-96de-6579254b5054",
   "metadata": {
    "tags": []
   },
   "outputs": [
    {
     "data": {
      "text/plain": [
       "Job Title             object\n",
       "Employment Type       object\n",
       "Experience Level      object\n",
       "Expertise Level       object\n",
       "Salary                 int64\n",
       "Salary Currency       object\n",
       "Company Location      object\n",
       "Salary in USD          int64\n",
       "Employee Residence    object\n",
       "Company Size          object\n",
       "Year                   int64\n",
       "dtype: object"
      ]
     },
     "execution_count": 2260,
     "metadata": {},
     "output_type": "execute_result"
    }
   ],
   "source": [
    "salaries.dtypes"
   ]
  },
  {
   "cell_type": "code",
   "execution_count": 2261,
   "id": "7146e325-bedc-4f05-b09e-b8448cf366de",
   "metadata": {
    "tags": []
   },
   "outputs": [
    {
     "data": {
      "text/plain": [
       "(5741, 11)"
      ]
     },
     "execution_count": 2261,
     "metadata": {},
     "output_type": "execute_result"
    }
   ],
   "source": [
    "salaries.shape"
   ]
  },
  {
   "cell_type": "code",
   "execution_count": 2262,
   "id": "64dd1ce1-b507-47f9-b421-b122c223fd74",
   "metadata": {
    "tags": []
   },
   "outputs": [
    {
     "data": {
      "text/plain": [
       "Country                                       object\n",
       "Density\\n(P/Km2)                              object\n",
       "Abbreviation                                  object\n",
       "Agricultural Land( %)                         object\n",
       "Land Area(Km2)                                object\n",
       "Armed Forces size                             object\n",
       "Birth Rate                                   float64\n",
       "Calling Code                                 float64\n",
       "Capital/Major City                            object\n",
       "Co2-Emissions                                 object\n",
       "CPI                                           object\n",
       "CPI Change (%)                                object\n",
       "Currency-Code                                 object\n",
       "Fertility Rate                               float64\n",
       "Forested Area (%)                             object\n",
       "Gasoline Price                                object\n",
       "GDP                                           object\n",
       "Gross primary education enrollment (%)        object\n",
       "Gross tertiary education enrollment (%)       object\n",
       "Infant mortality                             float64\n",
       "Largest city                                  object\n",
       "Life expectancy                              float64\n",
       "Maternal mortality ratio                     float64\n",
       "Minimum wage                                  object\n",
       "Official language                             object\n",
       "Out of pocket health expenditure              object\n",
       "Physicians per thousand                      float64\n",
       "Population                                    object\n",
       "Population: Labor force participation (%)     object\n",
       "Tax revenue (%)                               object\n",
       "Total tax rate                                object\n",
       "Unemployment rate                             object\n",
       "Urban_population                              object\n",
       "Latitude                                     float64\n",
       "Longitude                                    float64\n",
       "dtype: object"
      ]
     },
     "execution_count": 2262,
     "metadata": {},
     "output_type": "execute_result"
    }
   ],
   "source": [
    "world_info.dtypes"
   ]
  },
  {
   "cell_type": "code",
   "execution_count": 2263,
   "id": "eb206ceb-4e3d-4de3-ae59-c0f0c19496a5",
   "metadata": {
    "tags": []
   },
   "outputs": [
    {
     "data": {
      "text/plain": [
       "(60, 35)"
      ]
     },
     "execution_count": 2263,
     "metadata": {},
     "output_type": "execute_result"
    }
   ],
   "source": [
    "world_info.shape"
   ]
  },
  {
   "cell_type": "code",
   "execution_count": 2264,
   "id": "bd57506f-66fe-4bad-af17-c43cd3224e07",
   "metadata": {
    "tags": []
   },
   "outputs": [],
   "source": [
    "world_info['Minimum wage'] = world_info['Minimum wage'].astype('float')\n",
    "world_info['Density\\n(P/Km2)'] = world_info['Density\\n(P/Km2)'].astype('float')\n",
    "world_info['Land Area(Km2)'] = world_info['Land Area(Km2)'].astype('int')\n",
    "world_info['Armed Forces size'] = world_info['Armed Forces size'].astype('int')\n",
    "world_info['Co2-Emissions'] = world_info['Co2-Emissions'].astype('int')\n",
    "world_info['CPI'] = world_info['CPI'].astype('float')\n",
    "world_info['CPI Change (%)'] = world_info['CPI Change (%)'].astype('float')\n",
    "world_info['Gasoline Price'] = world_info['Gasoline Price'].astype('float')\n",
    "world_info['Forested Area (%)'] = world_info['Forested Area (%)'].astype('float')\n",
    "world_info['GDP'] = world_info['GDP'].astype('int')\n",
    "world_info['Gross primary education enrollment (%)'] = world_info['Gross primary education enrollment (%)'].astype('float')\n",
    "world_info['Gross tertiary education enrollment (%)'] = world_info['Gross tertiary education enrollment (%)'].astype('float')\n",
    "world_info['Out of pocket health expenditure'] = world_info['Out of pocket health expenditure'].astype('float')\n",
    "world_info['Population'] = world_info['Population'].astype('int')\n",
    "world_info['Population: Labor force participation (%)'] = world_info['Population: Labor force participation (%)'].astype('float')\n",
    "world_info['Tax revenue (%)'] = world_info['Tax revenue (%)'].astype('float')\n",
    "world_info['Total tax rate'] = world_info['Total tax rate'].astype('float')\n",
    "world_info['Unemployment rate'] = world_info['Unemployment rate'].astype('float')\n",
    "world_info['Urban_population'] = world_info['Urban_population'].astype('int')"
   ]
  },
  {
   "cell_type": "code",
   "execution_count": 2265,
   "id": "a4cff274-e3d6-4b19-a118-6e305e46b58c",
   "metadata": {
    "tags": []
   },
   "outputs": [
    {
     "data": {
      "text/plain": [
       "Country                                       object\n",
       "Density\\n(P/Km2)                             float64\n",
       "Abbreviation                                  object\n",
       "Agricultural Land( %)                         object\n",
       "Land Area(Km2)                                 int64\n",
       "Armed Forces size                              int64\n",
       "Birth Rate                                   float64\n",
       "Calling Code                                 float64\n",
       "Capital/Major City                            object\n",
       "Co2-Emissions                                  int64\n",
       "CPI                                          float64\n",
       "CPI Change (%)                               float64\n",
       "Currency-Code                                 object\n",
       "Fertility Rate                               float64\n",
       "Forested Area (%)                            float64\n",
       "Gasoline Price                               float64\n",
       "GDP                                            int64\n",
       "Gross primary education enrollment (%)       float64\n",
       "Gross tertiary education enrollment (%)      float64\n",
       "Infant mortality                             float64\n",
       "Largest city                                  object\n",
       "Life expectancy                              float64\n",
       "Maternal mortality ratio                     float64\n",
       "Minimum wage                                 float64\n",
       "Official language                             object\n",
       "Out of pocket health expenditure             float64\n",
       "Physicians per thousand                      float64\n",
       "Population                                     int64\n",
       "Population: Labor force participation (%)    float64\n",
       "Tax revenue (%)                              float64\n",
       "Total tax rate                               float64\n",
       "Unemployment rate                            float64\n",
       "Urban_population                               int64\n",
       "Latitude                                     float64\n",
       "Longitude                                    float64\n",
       "dtype: object"
      ]
     },
     "execution_count": 2265,
     "metadata": {},
     "output_type": "execute_result"
    }
   ],
   "source": [
    "world_info.dtypes"
   ]
  },
  {
   "cell_type": "markdown",
   "id": "251b348c-0f5e-4e94-9e73-c069aee93f7e",
   "metadata": {
    "tags": []
   },
   "source": [
    "### Merge 2 Datasets"
   ]
  },
  {
   "cell_type": "code",
   "execution_count": 2267,
   "id": "c8a4c480-d928-4cc0-8ca1-180fe2f2463a",
   "metadata": {
    "tags": []
   },
   "outputs": [],
   "source": [
    "# Merging DataFrame `salaries` and `world_info` by columns `Company Location` and `Country`\n",
    "df = salaries.merge(world_info, left_on='Company Location', right_on='Country', how='left')"
   ]
  },
  {
   "cell_type": "code",
   "execution_count": 2268,
   "id": "1ef21a4f-955b-4a48-b60c-6fa95cc4ff84",
   "metadata": {
    "tags": []
   },
   "outputs": [
    {
     "data": {
      "text/plain": [
       "(5741, 46)"
      ]
     },
     "execution_count": 2268,
     "metadata": {},
     "output_type": "execute_result"
    }
   ],
   "source": [
    "df.shape"
   ]
  },
  {
   "cell_type": "code",
   "execution_count": 2269,
   "id": "eb2e6e29-0722-41ff-8140-5bff5dcc2819",
   "metadata": {
    "tags": []
   },
   "outputs": [
    {
     "data": {
      "text/html": [
       "<div>\n",
       "<style scoped>\n",
       "    .dataframe tbody tr th:only-of-type {\n",
       "        vertical-align: middle;\n",
       "    }\n",
       "\n",
       "    .dataframe tbody tr th {\n",
       "        vertical-align: top;\n",
       "    }\n",
       "\n",
       "    .dataframe thead th {\n",
       "        text-align: right;\n",
       "    }\n",
       "</style>\n",
       "<table border=\"1\" class=\"dataframe\">\n",
       "  <thead>\n",
       "    <tr style=\"text-align: right;\">\n",
       "      <th></th>\n",
       "      <th>count</th>\n",
       "      <th>%</th>\n",
       "    </tr>\n",
       "  </thead>\n",
       "  <tbody>\n",
       "    <tr>\n",
       "      <th>Currency-Code</th>\n",
       "      <td>39</td>\n",
       "      <td>0.679324</td>\n",
       "    </tr>\n",
       "    <tr>\n",
       "      <th>Fertility Rate</th>\n",
       "      <td>39</td>\n",
       "      <td>0.679324</td>\n",
       "    </tr>\n",
       "    <tr>\n",
       "      <th>Gasoline Price</th>\n",
       "      <td>39</td>\n",
       "      <td>0.679324</td>\n",
       "    </tr>\n",
       "    <tr>\n",
       "      <th>GDP</th>\n",
       "      <td>39</td>\n",
       "      <td>0.679324</td>\n",
       "    </tr>\n",
       "    <tr>\n",
       "      <th>Gross primary education enrollment (%)</th>\n",
       "      <td>39</td>\n",
       "      <td>0.679324</td>\n",
       "    </tr>\n",
       "    <tr>\n",
       "      <th>Gross tertiary education enrollment (%)</th>\n",
       "      <td>39</td>\n",
       "      <td>0.679324</td>\n",
       "    </tr>\n",
       "    <tr>\n",
       "      <th>Infant mortality</th>\n",
       "      <td>39</td>\n",
       "      <td>0.679324</td>\n",
       "    </tr>\n",
       "    <tr>\n",
       "      <th>Largest city</th>\n",
       "      <td>39</td>\n",
       "      <td>0.679324</td>\n",
       "    </tr>\n",
       "    <tr>\n",
       "      <th>Life expectancy</th>\n",
       "      <td>39</td>\n",
       "      <td>0.679324</td>\n",
       "    </tr>\n",
       "    <tr>\n",
       "      <th>Maternal mortality ratio</th>\n",
       "      <td>39</td>\n",
       "      <td>0.679324</td>\n",
       "    </tr>\n",
       "    <tr>\n",
       "      <th>Minimum wage</th>\n",
       "      <td>39</td>\n",
       "      <td>0.679324</td>\n",
       "    </tr>\n",
       "    <tr>\n",
       "      <th>Official language</th>\n",
       "      <td>39</td>\n",
       "      <td>0.679324</td>\n",
       "    </tr>\n",
       "    <tr>\n",
       "      <th>Out of pocket health expenditure</th>\n",
       "      <td>39</td>\n",
       "      <td>0.679324</td>\n",
       "    </tr>\n",
       "    <tr>\n",
       "      <th>Physicians per thousand</th>\n",
       "      <td>39</td>\n",
       "      <td>0.679324</td>\n",
       "    </tr>\n",
       "    <tr>\n",
       "      <th>Population</th>\n",
       "      <td>39</td>\n",
       "      <td>0.679324</td>\n",
       "    </tr>\n",
       "    <tr>\n",
       "      <th>Population: Labor force participation (%)</th>\n",
       "      <td>39</td>\n",
       "      <td>0.679324</td>\n",
       "    </tr>\n",
       "    <tr>\n",
       "      <th>Tax revenue (%)</th>\n",
       "      <td>39</td>\n",
       "      <td>0.679324</td>\n",
       "    </tr>\n",
       "    <tr>\n",
       "      <th>Total tax rate</th>\n",
       "      <td>39</td>\n",
       "      <td>0.679324</td>\n",
       "    </tr>\n",
       "    <tr>\n",
       "      <th>Unemployment rate</th>\n",
       "      <td>39</td>\n",
       "      <td>0.679324</td>\n",
       "    </tr>\n",
       "    <tr>\n",
       "      <th>Urban_population</th>\n",
       "      <td>39</td>\n",
       "      <td>0.679324</td>\n",
       "    </tr>\n",
       "    <tr>\n",
       "      <th>Latitude</th>\n",
       "      <td>39</td>\n",
       "      <td>0.679324</td>\n",
       "    </tr>\n",
       "    <tr>\n",
       "      <th>Forested Area (%)</th>\n",
       "      <td>39</td>\n",
       "      <td>0.679324</td>\n",
       "    </tr>\n",
       "    <tr>\n",
       "      <th>Longitude</th>\n",
       "      <td>39</td>\n",
       "      <td>0.679324</td>\n",
       "    </tr>\n",
       "    <tr>\n",
       "      <th>Density\\n(P/Km2)</th>\n",
       "      <td>39</td>\n",
       "      <td>0.679324</td>\n",
       "    </tr>\n",
       "    <tr>\n",
       "      <th>Armed Forces size</th>\n",
       "      <td>39</td>\n",
       "      <td>0.679324</td>\n",
       "    </tr>\n",
       "    <tr>\n",
       "      <th>Country</th>\n",
       "      <td>39</td>\n",
       "      <td>0.679324</td>\n",
       "    </tr>\n",
       "    <tr>\n",
       "      <th>CPI Change (%)</th>\n",
       "      <td>39</td>\n",
       "      <td>0.679324</td>\n",
       "    </tr>\n",
       "    <tr>\n",
       "      <th>Abbreviation</th>\n",
       "      <td>39</td>\n",
       "      <td>0.679324</td>\n",
       "    </tr>\n",
       "    <tr>\n",
       "      <th>Agricultural Land( %)</th>\n",
       "      <td>39</td>\n",
       "      <td>0.679324</td>\n",
       "    </tr>\n",
       "    <tr>\n",
       "      <th>Land Area(Km2)</th>\n",
       "      <td>39</td>\n",
       "      <td>0.679324</td>\n",
       "    </tr>\n",
       "    <tr>\n",
       "      <th>Birth Rate</th>\n",
       "      <td>39</td>\n",
       "      <td>0.679324</td>\n",
       "    </tr>\n",
       "    <tr>\n",
       "      <th>Calling Code</th>\n",
       "      <td>39</td>\n",
       "      <td>0.679324</td>\n",
       "    </tr>\n",
       "    <tr>\n",
       "      <th>Capital/Major City</th>\n",
       "      <td>39</td>\n",
       "      <td>0.679324</td>\n",
       "    </tr>\n",
       "    <tr>\n",
       "      <th>Co2-Emissions</th>\n",
       "      <td>39</td>\n",
       "      <td>0.679324</td>\n",
       "    </tr>\n",
       "    <tr>\n",
       "      <th>CPI</th>\n",
       "      <td>39</td>\n",
       "      <td>0.679324</td>\n",
       "    </tr>\n",
       "    <tr>\n",
       "      <th>Company Location</th>\n",
       "      <td>0</td>\n",
       "      <td>0.000000</td>\n",
       "    </tr>\n",
       "    <tr>\n",
       "      <th>Experience Level</th>\n",
       "      <td>0</td>\n",
       "      <td>0.000000</td>\n",
       "    </tr>\n",
       "    <tr>\n",
       "      <th>Expertise Level</th>\n",
       "      <td>0</td>\n",
       "      <td>0.000000</td>\n",
       "    </tr>\n",
       "    <tr>\n",
       "      <th>Salary</th>\n",
       "      <td>0</td>\n",
       "      <td>0.000000</td>\n",
       "    </tr>\n",
       "    <tr>\n",
       "      <th>Salary Currency</th>\n",
       "      <td>0</td>\n",
       "      <td>0.000000</td>\n",
       "    </tr>\n",
       "    <tr>\n",
       "      <th>Employment Type</th>\n",
       "      <td>0</td>\n",
       "      <td>0.000000</td>\n",
       "    </tr>\n",
       "    <tr>\n",
       "      <th>Salary in USD</th>\n",
       "      <td>0</td>\n",
       "      <td>0.000000</td>\n",
       "    </tr>\n",
       "    <tr>\n",
       "      <th>Employee Residence</th>\n",
       "      <td>0</td>\n",
       "      <td>0.000000</td>\n",
       "    </tr>\n",
       "    <tr>\n",
       "      <th>Company Size</th>\n",
       "      <td>0</td>\n",
       "      <td>0.000000</td>\n",
       "    </tr>\n",
       "    <tr>\n",
       "      <th>Year</th>\n",
       "      <td>0</td>\n",
       "      <td>0.000000</td>\n",
       "    </tr>\n",
       "    <tr>\n",
       "      <th>Job Title</th>\n",
       "      <td>0</td>\n",
       "      <td>0.000000</td>\n",
       "    </tr>\n",
       "  </tbody>\n",
       "</table>\n",
       "</div>"
      ],
      "text/plain": [
       "                                           count         %\n",
       "Currency-Code                                 39  0.679324\n",
       "Fertility Rate                                39  0.679324\n",
       "Gasoline Price                                39  0.679324\n",
       "GDP                                           39  0.679324\n",
       "Gross primary education enrollment (%)        39  0.679324\n",
       "Gross tertiary education enrollment (%)       39  0.679324\n",
       "Infant mortality                              39  0.679324\n",
       "Largest city                                  39  0.679324\n",
       "Life expectancy                               39  0.679324\n",
       "Maternal mortality ratio                      39  0.679324\n",
       "Minimum wage                                  39  0.679324\n",
       "Official language                             39  0.679324\n",
       "Out of pocket health expenditure              39  0.679324\n",
       "Physicians per thousand                       39  0.679324\n",
       "Population                                    39  0.679324\n",
       "Population: Labor force participation (%)     39  0.679324\n",
       "Tax revenue (%)                               39  0.679324\n",
       "Total tax rate                                39  0.679324\n",
       "Unemployment rate                             39  0.679324\n",
       "Urban_population                              39  0.679324\n",
       "Latitude                                      39  0.679324\n",
       "Forested Area (%)                             39  0.679324\n",
       "Longitude                                     39  0.679324\n",
       "Density\\n(P/Km2)                              39  0.679324\n",
       "Armed Forces size                             39  0.679324\n",
       "Country                                       39  0.679324\n",
       "CPI Change (%)                                39  0.679324\n",
       "Abbreviation                                  39  0.679324\n",
       "Agricultural Land( %)                         39  0.679324\n",
       "Land Area(Km2)                                39  0.679324\n",
       "Birth Rate                                    39  0.679324\n",
       "Calling Code                                  39  0.679324\n",
       "Capital/Major City                            39  0.679324\n",
       "Co2-Emissions                                 39  0.679324\n",
       "CPI                                           39  0.679324\n",
       "Company Location                               0  0.000000\n",
       "Experience Level                               0  0.000000\n",
       "Expertise Level                                0  0.000000\n",
       "Salary                                         0  0.000000\n",
       "Salary Currency                                0  0.000000\n",
       "Employment Type                                0  0.000000\n",
       "Salary in USD                                  0  0.000000\n",
       "Employee Residence                             0  0.000000\n",
       "Company Size                                   0  0.000000\n",
       "Year                                           0  0.000000\n",
       "Job Title                                      0  0.000000"
      ]
     },
     "execution_count": 2269,
     "metadata": {},
     "output_type": "execute_result"
    }
   ],
   "source": [
    "missing_world = pd.concat([df.isnull().sum(), 100 * df.isnull().mean()], axis=1)\n",
    "missing_world.columns=['count', '%']\n",
    "missing_world = missing_world.sort_values(by='count', ascending=False)\n",
    "missing_world"
   ]
  },
  {
   "cell_type": "code",
   "execution_count": 2270,
   "id": "8efbe550-a94a-4bd8-ba8d-b7077cfb08a4",
   "metadata": {
    "tags": []
   },
   "outputs": [],
   "source": [
    "df = df.dropna(subset=['Currency-Code'])"
   ]
  },
  {
   "cell_type": "code",
   "execution_count": 2271,
   "id": "919239c1-2342-449f-aad9-409be7fa5db9",
   "metadata": {
    "tags": []
   },
   "outputs": [
    {
     "data": {
      "text/html": [
       "<div>\n",
       "<style scoped>\n",
       "    .dataframe tbody tr th:only-of-type {\n",
       "        vertical-align: middle;\n",
       "    }\n",
       "\n",
       "    .dataframe tbody tr th {\n",
       "        vertical-align: top;\n",
       "    }\n",
       "\n",
       "    .dataframe thead th {\n",
       "        text-align: right;\n",
       "    }\n",
       "</style>\n",
       "<table border=\"1\" class=\"dataframe\">\n",
       "  <thead>\n",
       "    <tr style=\"text-align: right;\">\n",
       "      <th></th>\n",
       "      <th>count</th>\n",
       "      <th>%</th>\n",
       "    </tr>\n",
       "  </thead>\n",
       "  <tbody>\n",
       "    <tr>\n",
       "      <th>Job Title</th>\n",
       "      <td>0</td>\n",
       "      <td>0.0</td>\n",
       "    </tr>\n",
       "    <tr>\n",
       "      <th>Minimum wage</th>\n",
       "      <td>0</td>\n",
       "      <td>0.0</td>\n",
       "    </tr>\n",
       "    <tr>\n",
       "      <th>Forested Area (%)</th>\n",
       "      <td>0</td>\n",
       "      <td>0.0</td>\n",
       "    </tr>\n",
       "    <tr>\n",
       "      <th>Gasoline Price</th>\n",
       "      <td>0</td>\n",
       "      <td>0.0</td>\n",
       "    </tr>\n",
       "    <tr>\n",
       "      <th>GDP</th>\n",
       "      <td>0</td>\n",
       "      <td>0.0</td>\n",
       "    </tr>\n",
       "    <tr>\n",
       "      <th>Gross primary education enrollment (%)</th>\n",
       "      <td>0</td>\n",
       "      <td>0.0</td>\n",
       "    </tr>\n",
       "    <tr>\n",
       "      <th>Gross tertiary education enrollment (%)</th>\n",
       "      <td>0</td>\n",
       "      <td>0.0</td>\n",
       "    </tr>\n",
       "    <tr>\n",
       "      <th>Infant mortality</th>\n",
       "      <td>0</td>\n",
       "      <td>0.0</td>\n",
       "    </tr>\n",
       "    <tr>\n",
       "      <th>Largest city</th>\n",
       "      <td>0</td>\n",
       "      <td>0.0</td>\n",
       "    </tr>\n",
       "    <tr>\n",
       "      <th>Life expectancy</th>\n",
       "      <td>0</td>\n",
       "      <td>0.0</td>\n",
       "    </tr>\n",
       "    <tr>\n",
       "      <th>Maternal mortality ratio</th>\n",
       "      <td>0</td>\n",
       "      <td>0.0</td>\n",
       "    </tr>\n",
       "    <tr>\n",
       "      <th>Official language</th>\n",
       "      <td>0</td>\n",
       "      <td>0.0</td>\n",
       "    </tr>\n",
       "    <tr>\n",
       "      <th>Employment Type</th>\n",
       "      <td>0</td>\n",
       "      <td>0.0</td>\n",
       "    </tr>\n",
       "    <tr>\n",
       "      <th>Out of pocket health expenditure</th>\n",
       "      <td>0</td>\n",
       "      <td>0.0</td>\n",
       "    </tr>\n",
       "    <tr>\n",
       "      <th>Physicians per thousand</th>\n",
       "      <td>0</td>\n",
       "      <td>0.0</td>\n",
       "    </tr>\n",
       "    <tr>\n",
       "      <th>Population</th>\n",
       "      <td>0</td>\n",
       "      <td>0.0</td>\n",
       "    </tr>\n",
       "    <tr>\n",
       "      <th>Population: Labor force participation (%)</th>\n",
       "      <td>0</td>\n",
       "      <td>0.0</td>\n",
       "    </tr>\n",
       "    <tr>\n",
       "      <th>Tax revenue (%)</th>\n",
       "      <td>0</td>\n",
       "      <td>0.0</td>\n",
       "    </tr>\n",
       "    <tr>\n",
       "      <th>Total tax rate</th>\n",
       "      <td>0</td>\n",
       "      <td>0.0</td>\n",
       "    </tr>\n",
       "    <tr>\n",
       "      <th>Unemployment rate</th>\n",
       "      <td>0</td>\n",
       "      <td>0.0</td>\n",
       "    </tr>\n",
       "    <tr>\n",
       "      <th>Urban_population</th>\n",
       "      <td>0</td>\n",
       "      <td>0.0</td>\n",
       "    </tr>\n",
       "    <tr>\n",
       "      <th>Latitude</th>\n",
       "      <td>0</td>\n",
       "      <td>0.0</td>\n",
       "    </tr>\n",
       "    <tr>\n",
       "      <th>Fertility Rate</th>\n",
       "      <td>0</td>\n",
       "      <td>0.0</td>\n",
       "    </tr>\n",
       "    <tr>\n",
       "      <th>Currency-Code</th>\n",
       "      <td>0</td>\n",
       "      <td>0.0</td>\n",
       "    </tr>\n",
       "    <tr>\n",
       "      <th>CPI Change (%)</th>\n",
       "      <td>0</td>\n",
       "      <td>0.0</td>\n",
       "    </tr>\n",
       "    <tr>\n",
       "      <th>CPI</th>\n",
       "      <td>0</td>\n",
       "      <td>0.0</td>\n",
       "    </tr>\n",
       "    <tr>\n",
       "      <th>Experience Level</th>\n",
       "      <td>0</td>\n",
       "      <td>0.0</td>\n",
       "    </tr>\n",
       "    <tr>\n",
       "      <th>Expertise Level</th>\n",
       "      <td>0</td>\n",
       "      <td>0.0</td>\n",
       "    </tr>\n",
       "    <tr>\n",
       "      <th>Salary</th>\n",
       "      <td>0</td>\n",
       "      <td>0.0</td>\n",
       "    </tr>\n",
       "    <tr>\n",
       "      <th>Salary Currency</th>\n",
       "      <td>0</td>\n",
       "      <td>0.0</td>\n",
       "    </tr>\n",
       "    <tr>\n",
       "      <th>Company Location</th>\n",
       "      <td>0</td>\n",
       "      <td>0.0</td>\n",
       "    </tr>\n",
       "    <tr>\n",
       "      <th>Salary in USD</th>\n",
       "      <td>0</td>\n",
       "      <td>0.0</td>\n",
       "    </tr>\n",
       "    <tr>\n",
       "      <th>Employee Residence</th>\n",
       "      <td>0</td>\n",
       "      <td>0.0</td>\n",
       "    </tr>\n",
       "    <tr>\n",
       "      <th>Company Size</th>\n",
       "      <td>0</td>\n",
       "      <td>0.0</td>\n",
       "    </tr>\n",
       "    <tr>\n",
       "      <th>Year</th>\n",
       "      <td>0</td>\n",
       "      <td>0.0</td>\n",
       "    </tr>\n",
       "    <tr>\n",
       "      <th>Country</th>\n",
       "      <td>0</td>\n",
       "      <td>0.0</td>\n",
       "    </tr>\n",
       "    <tr>\n",
       "      <th>Density\\n(P/Km2)</th>\n",
       "      <td>0</td>\n",
       "      <td>0.0</td>\n",
       "    </tr>\n",
       "    <tr>\n",
       "      <th>Abbreviation</th>\n",
       "      <td>0</td>\n",
       "      <td>0.0</td>\n",
       "    </tr>\n",
       "    <tr>\n",
       "      <th>Agricultural Land( %)</th>\n",
       "      <td>0</td>\n",
       "      <td>0.0</td>\n",
       "    </tr>\n",
       "    <tr>\n",
       "      <th>Land Area(Km2)</th>\n",
       "      <td>0</td>\n",
       "      <td>0.0</td>\n",
       "    </tr>\n",
       "    <tr>\n",
       "      <th>Armed Forces size</th>\n",
       "      <td>0</td>\n",
       "      <td>0.0</td>\n",
       "    </tr>\n",
       "    <tr>\n",
       "      <th>Birth Rate</th>\n",
       "      <td>0</td>\n",
       "      <td>0.0</td>\n",
       "    </tr>\n",
       "    <tr>\n",
       "      <th>Calling Code</th>\n",
       "      <td>0</td>\n",
       "      <td>0.0</td>\n",
       "    </tr>\n",
       "    <tr>\n",
       "      <th>Capital/Major City</th>\n",
       "      <td>0</td>\n",
       "      <td>0.0</td>\n",
       "    </tr>\n",
       "    <tr>\n",
       "      <th>Co2-Emissions</th>\n",
       "      <td>0</td>\n",
       "      <td>0.0</td>\n",
       "    </tr>\n",
       "    <tr>\n",
       "      <th>Longitude</th>\n",
       "      <td>0</td>\n",
       "      <td>0.0</td>\n",
       "    </tr>\n",
       "  </tbody>\n",
       "</table>\n",
       "</div>"
      ],
      "text/plain": [
       "                                           count    %\n",
       "Job Title                                      0  0.0\n",
       "Minimum wage                                   0  0.0\n",
       "Forested Area (%)                              0  0.0\n",
       "Gasoline Price                                 0  0.0\n",
       "GDP                                            0  0.0\n",
       "Gross primary education enrollment (%)         0  0.0\n",
       "Gross tertiary education enrollment (%)        0  0.0\n",
       "Infant mortality                               0  0.0\n",
       "Largest city                                   0  0.0\n",
       "Life expectancy                                0  0.0\n",
       "Maternal mortality ratio                       0  0.0\n",
       "Official language                              0  0.0\n",
       "Employment Type                                0  0.0\n",
       "Out of pocket health expenditure               0  0.0\n",
       "Physicians per thousand                        0  0.0\n",
       "Population                                     0  0.0\n",
       "Population: Labor force participation (%)      0  0.0\n",
       "Tax revenue (%)                                0  0.0\n",
       "Total tax rate                                 0  0.0\n",
       "Unemployment rate                              0  0.0\n",
       "Urban_population                               0  0.0\n",
       "Latitude                                       0  0.0\n",
       "Fertility Rate                                 0  0.0\n",
       "Currency-Code                                  0  0.0\n",
       "CPI Change (%)                                 0  0.0\n",
       "CPI                                            0  0.0\n",
       "Experience Level                               0  0.0\n",
       "Expertise Level                                0  0.0\n",
       "Salary                                         0  0.0\n",
       "Salary Currency                                0  0.0\n",
       "Company Location                               0  0.0\n",
       "Salary in USD                                  0  0.0\n",
       "Employee Residence                             0  0.0\n",
       "Company Size                                   0  0.0\n",
       "Year                                           0  0.0\n",
       "Country                                        0  0.0\n",
       "Density\\n(P/Km2)                               0  0.0\n",
       "Abbreviation                                   0  0.0\n",
       "Agricultural Land( %)                          0  0.0\n",
       "Land Area(Km2)                                 0  0.0\n",
       "Armed Forces size                              0  0.0\n",
       "Birth Rate                                     0  0.0\n",
       "Calling Code                                   0  0.0\n",
       "Capital/Major City                             0  0.0\n",
       "Co2-Emissions                                  0  0.0\n",
       "Longitude                                      0  0.0"
      ]
     },
     "execution_count": 2271,
     "metadata": {},
     "output_type": "execute_result"
    }
   ],
   "source": [
    "missing_world = pd.concat([df.isnull().sum(), 100 * df.isnull().mean()], axis=1)\n",
    "missing_world.columns=['count', '%']\n",
    "missing_world = missing_world.sort_values(by='count', ascending=False)\n",
    "missing_world"
   ]
  },
  {
   "cell_type": "code",
   "execution_count": 2272,
   "id": "84fabea1-2e86-46be-a575-67438bdf7e2f",
   "metadata": {
    "tags": []
   },
   "outputs": [
    {
     "data": {
      "text/plain": [
       "(5702, 46)"
      ]
     },
     "execution_count": 2272,
     "metadata": {},
     "output_type": "execute_result"
    }
   ],
   "source": [
    "df.shape"
   ]
  },
  {
   "cell_type": "code",
   "execution_count": 2273,
   "id": "61d7edbe-9e74-4992-b27c-9872fcd89d08",
   "metadata": {
    "tags": []
   },
   "outputs": [
    {
     "name": "stdout",
     "output_type": "stream",
     "text": [
      "<class 'pandas.core.frame.DataFrame'>\n",
      "Index: 5702 entries, 0 to 5740\n",
      "Data columns (total 46 columns):\n",
      " #   Column                                     Non-Null Count  Dtype  \n",
      "---  ------                                     --------------  -----  \n",
      " 0   Job Title                                  5702 non-null   object \n",
      " 1   Employment Type                            5702 non-null   object \n",
      " 2   Experience Level                           5702 non-null   object \n",
      " 3   Expertise Level                            5702 non-null   object \n",
      " 4   Salary                                     5702 non-null   int64  \n",
      " 5   Salary Currency                            5702 non-null   object \n",
      " 6   Company Location                           5702 non-null   object \n",
      " 7   Salary in USD                              5702 non-null   int64  \n",
      " 8   Employee Residence                         5702 non-null   object \n",
      " 9   Company Size                               5702 non-null   object \n",
      " 10  Year                                       5702 non-null   int64  \n",
      " 11  Country                                    5702 non-null   object \n",
      " 12  Density\n",
      "(P/Km2)                            5702 non-null   float64\n",
      " 13  Abbreviation                               5702 non-null   object \n",
      " 14  Agricultural Land( %)                      5702 non-null   object \n",
      " 15  Land Area(Km2)                             5702 non-null   float64\n",
      " 16  Armed Forces size                          5702 non-null   float64\n",
      " 17  Birth Rate                                 5702 non-null   float64\n",
      " 18  Calling Code                               5702 non-null   float64\n",
      " 19  Capital/Major City                         5702 non-null   object \n",
      " 20  Co2-Emissions                              5702 non-null   float64\n",
      " 21  CPI                                        5702 non-null   float64\n",
      " 22  CPI Change (%)                             5702 non-null   float64\n",
      " 23  Currency-Code                              5702 non-null   object \n",
      " 24  Fertility Rate                             5702 non-null   float64\n",
      " 25  Forested Area (%)                          5702 non-null   float64\n",
      " 26  Gasoline Price                             5702 non-null   float64\n",
      " 27  GDP                                        5702 non-null   float64\n",
      " 28  Gross primary education enrollment (%)     5702 non-null   float64\n",
      " 29  Gross tertiary education enrollment (%)    5702 non-null   float64\n",
      " 30  Infant mortality                           5702 non-null   float64\n",
      " 31  Largest city                               5702 non-null   object \n",
      " 32  Life expectancy                            5702 non-null   float64\n",
      " 33  Maternal mortality ratio                   5702 non-null   float64\n",
      " 34  Minimum wage                               5702 non-null   float64\n",
      " 35  Official language                          5702 non-null   object \n",
      " 36  Out of pocket health expenditure           5702 non-null   float64\n",
      " 37  Physicians per thousand                    5702 non-null   float64\n",
      " 38  Population                                 5702 non-null   float64\n",
      " 39  Population: Labor force participation (%)  5702 non-null   float64\n",
      " 40  Tax revenue (%)                            5702 non-null   float64\n",
      " 41  Total tax rate                             5702 non-null   float64\n",
      " 42  Unemployment rate                          5702 non-null   float64\n",
      " 43  Urban_population                           5702 non-null   float64\n",
      " 44  Latitude                                   5702 non-null   float64\n",
      " 45  Longitude                                  5702 non-null   float64\n",
      "dtypes: float64(28), int64(3), object(15)\n",
      "memory usage: 2.0+ MB\n"
     ]
    }
   ],
   "source": [
    "df.info()"
   ]
  },
  {
   "cell_type": "code",
   "execution_count": 2274,
   "id": "7d66b008-6f99-4719-866b-b1394f034257",
   "metadata": {
    "tags": []
   },
   "outputs": [
    {
     "data": {
      "text/html": [
       "<div>\n",
       "<style scoped>\n",
       "    .dataframe tbody tr th:only-of-type {\n",
       "        vertical-align: middle;\n",
       "    }\n",
       "\n",
       "    .dataframe tbody tr th {\n",
       "        vertical-align: top;\n",
       "    }\n",
       "\n",
       "    .dataframe thead th {\n",
       "        text-align: right;\n",
       "    }\n",
       "</style>\n",
       "<table border=\"1\" class=\"dataframe\">\n",
       "  <thead>\n",
       "    <tr style=\"text-align: right;\">\n",
       "      <th></th>\n",
       "      <th>Job Title</th>\n",
       "      <th>Employment Type</th>\n",
       "      <th>Experience Level</th>\n",
       "      <th>Expertise Level</th>\n",
       "      <th>Salary</th>\n",
       "      <th>Salary Currency</th>\n",
       "      <th>Company Location</th>\n",
       "      <th>Salary in USD</th>\n",
       "      <th>Employee Residence</th>\n",
       "      <th>Company Size</th>\n",
       "      <th>...</th>\n",
       "      <th>Out of pocket health expenditure</th>\n",
       "      <th>Physicians per thousand</th>\n",
       "      <th>Population</th>\n",
       "      <th>Population: Labor force participation (%)</th>\n",
       "      <th>Tax revenue (%)</th>\n",
       "      <th>Total tax rate</th>\n",
       "      <th>Unemployment rate</th>\n",
       "      <th>Urban_population</th>\n",
       "      <th>Latitude</th>\n",
       "      <th>Longitude</th>\n",
       "    </tr>\n",
       "  </thead>\n",
       "  <tbody>\n",
       "    <tr>\n",
       "      <th>0</th>\n",
       "      <td>Data Engineer</td>\n",
       "      <td>Full-Time</td>\n",
       "      <td>Senior</td>\n",
       "      <td>Expert</td>\n",
       "      <td>210000</td>\n",
       "      <td>United States Dollar</td>\n",
       "      <td>United States</td>\n",
       "      <td>210000</td>\n",
       "      <td>United States</td>\n",
       "      <td>Medium</td>\n",
       "      <td>...</td>\n",
       "      <td>11.1</td>\n",
       "      <td>2.61</td>\n",
       "      <td>328239523.0</td>\n",
       "      <td>62.0</td>\n",
       "      <td>9.6</td>\n",
       "      <td>36.6</td>\n",
       "      <td>14.7</td>\n",
       "      <td>270663028.0</td>\n",
       "      <td>37.09024</td>\n",
       "      <td>-95.712891</td>\n",
       "    </tr>\n",
       "    <tr>\n",
       "      <th>1</th>\n",
       "      <td>Data Engineer</td>\n",
       "      <td>Full-Time</td>\n",
       "      <td>Senior</td>\n",
       "      <td>Expert</td>\n",
       "      <td>165000</td>\n",
       "      <td>United States Dollar</td>\n",
       "      <td>United States</td>\n",
       "      <td>165000</td>\n",
       "      <td>United States</td>\n",
       "      <td>Medium</td>\n",
       "      <td>...</td>\n",
       "      <td>11.1</td>\n",
       "      <td>2.61</td>\n",
       "      <td>328239523.0</td>\n",
       "      <td>62.0</td>\n",
       "      <td>9.6</td>\n",
       "      <td>36.6</td>\n",
       "      <td>14.7</td>\n",
       "      <td>270663028.0</td>\n",
       "      <td>37.09024</td>\n",
       "      <td>-95.712891</td>\n",
       "    </tr>\n",
       "    <tr>\n",
       "      <th>2</th>\n",
       "      <td>Data Engineer</td>\n",
       "      <td>Full-Time</td>\n",
       "      <td>Senior</td>\n",
       "      <td>Expert</td>\n",
       "      <td>185900</td>\n",
       "      <td>United States Dollar</td>\n",
       "      <td>United States</td>\n",
       "      <td>185900</td>\n",
       "      <td>United States</td>\n",
       "      <td>Medium</td>\n",
       "      <td>...</td>\n",
       "      <td>11.1</td>\n",
       "      <td>2.61</td>\n",
       "      <td>328239523.0</td>\n",
       "      <td>62.0</td>\n",
       "      <td>9.6</td>\n",
       "      <td>36.6</td>\n",
       "      <td>14.7</td>\n",
       "      <td>270663028.0</td>\n",
       "      <td>37.09024</td>\n",
       "      <td>-95.712891</td>\n",
       "    </tr>\n",
       "    <tr>\n",
       "      <th>3</th>\n",
       "      <td>Data Engineer</td>\n",
       "      <td>Full-Time</td>\n",
       "      <td>Senior</td>\n",
       "      <td>Expert</td>\n",
       "      <td>129300</td>\n",
       "      <td>United States Dollar</td>\n",
       "      <td>United States</td>\n",
       "      <td>129300</td>\n",
       "      <td>United States</td>\n",
       "      <td>Medium</td>\n",
       "      <td>...</td>\n",
       "      <td>11.1</td>\n",
       "      <td>2.61</td>\n",
       "      <td>328239523.0</td>\n",
       "      <td>62.0</td>\n",
       "      <td>9.6</td>\n",
       "      <td>36.6</td>\n",
       "      <td>14.7</td>\n",
       "      <td>270663028.0</td>\n",
       "      <td>37.09024</td>\n",
       "      <td>-95.712891</td>\n",
       "    </tr>\n",
       "    <tr>\n",
       "      <th>4</th>\n",
       "      <td>Data Scientist</td>\n",
       "      <td>Full-Time</td>\n",
       "      <td>Senior</td>\n",
       "      <td>Expert</td>\n",
       "      <td>140000</td>\n",
       "      <td>United States Dollar</td>\n",
       "      <td>United States</td>\n",
       "      <td>140000</td>\n",
       "      <td>United States</td>\n",
       "      <td>Medium</td>\n",
       "      <td>...</td>\n",
       "      <td>11.1</td>\n",
       "      <td>2.61</td>\n",
       "      <td>328239523.0</td>\n",
       "      <td>62.0</td>\n",
       "      <td>9.6</td>\n",
       "      <td>36.6</td>\n",
       "      <td>14.7</td>\n",
       "      <td>270663028.0</td>\n",
       "      <td>37.09024</td>\n",
       "      <td>-95.712891</td>\n",
       "    </tr>\n",
       "  </tbody>\n",
       "</table>\n",
       "<p>5 rows × 46 columns</p>\n",
       "</div>"
      ],
      "text/plain": [
       "        Job Title Employment Type Experience Level Expertise Level  Salary  \\\n",
       "0   Data Engineer       Full-Time           Senior          Expert  210000   \n",
       "1   Data Engineer       Full-Time           Senior          Expert  165000   \n",
       "2   Data Engineer       Full-Time           Senior          Expert  185900   \n",
       "3   Data Engineer       Full-Time           Senior          Expert  129300   \n",
       "4  Data Scientist       Full-Time           Senior          Expert  140000   \n",
       "\n",
       "        Salary Currency Company Location  Salary in USD Employee Residence  \\\n",
       "0  United States Dollar    United States         210000      United States   \n",
       "1  United States Dollar    United States         165000      United States   \n",
       "2  United States Dollar    United States         185900      United States   \n",
       "3  United States Dollar    United States         129300      United States   \n",
       "4  United States Dollar    United States         140000      United States   \n",
       "\n",
       "  Company Size  ...  Out of pocket health expenditure Physicians per thousand  \\\n",
       "0       Medium  ...                              11.1                    2.61   \n",
       "1       Medium  ...                              11.1                    2.61   \n",
       "2       Medium  ...                              11.1                    2.61   \n",
       "3       Medium  ...                              11.1                    2.61   \n",
       "4       Medium  ...                              11.1                    2.61   \n",
       "\n",
       "    Population Population: Labor force participation (%) Tax revenue (%)  \\\n",
       "0  328239523.0                                      62.0             9.6   \n",
       "1  328239523.0                                      62.0             9.6   \n",
       "2  328239523.0                                      62.0             9.6   \n",
       "3  328239523.0                                      62.0             9.6   \n",
       "4  328239523.0                                      62.0             9.6   \n",
       "\n",
       "   Total tax rate  Unemployment rate  Urban_population  Latitude  Longitude  \n",
       "0            36.6               14.7       270663028.0  37.09024 -95.712891  \n",
       "1            36.6               14.7       270663028.0  37.09024 -95.712891  \n",
       "2            36.6               14.7       270663028.0  37.09024 -95.712891  \n",
       "3            36.6               14.7       270663028.0  37.09024 -95.712891  \n",
       "4            36.6               14.7       270663028.0  37.09024 -95.712891  \n",
       "\n",
       "[5 rows x 46 columns]"
      ]
     },
     "execution_count": 2274,
     "metadata": {},
     "output_type": "execute_result"
    }
   ],
   "source": [
    "df.head()"
   ]
  },
  {
   "cell_type": "markdown",
   "id": "6374bf88-4545-4eb8-82f8-3448397da405",
   "metadata": {},
   "source": [
    "Mean Salaries"
   ]
  },
  {
   "cell_type": "code",
   "execution_count": 2275,
   "id": "5c487443-722a-4e89-a0f4-79fdeaba55b0",
   "metadata": {
    "tags": []
   },
   "outputs": [
    {
     "data": {
      "text/plain": [
       "Country    Job Title                          \n",
       "Algeria    Data Scientist                         100000.000000\n",
       "Argentina  Data Analyst                            50000.000000\n",
       "           Data Engineer                           65000.000000\n",
       "Armenia    Machine Learning Engineer               50000.000000\n",
       "Australia  AI Programmer                           55000.000000\n",
       "           AI Scientist                            81838.000000\n",
       "           BI Data Analyst                         49209.000000\n",
       "           Computer Vision Software Engineer      150000.000000\n",
       "           Data Analyst                           101632.666667\n",
       "           Data Engineer                           75050.000000\n",
       "           Data Science Manager                   133766.000000\n",
       "           Data Scientist                         121838.666667\n",
       "           ML Engineer                            224993.000000\n",
       "           Machine Learning Developer              40000.000000\n",
       "           Machine Learning Engineer              192954.666667\n",
       "           Software Data Engineer                  50000.000000\n",
       "Austria    Applied Data Scientist                  50000.000000\n",
       "           Data Engineer                           74130.000000\n",
       "           Data Scientist                          76352.000000\n",
       "           Data Scientist Lead                     89306.000000\n",
       "           Research Scientist                      61989.000000\n",
       "Belgium    Data Scientist                          68030.500000\n",
       "           Machine Learning Engineer               85699.000000\n",
       "Brazil     Analytics Engineer                      63000.000000\n",
       "           BI Analyst                              63000.000000\n",
       "           Computer Vision Engineer                21453.500000\n",
       "           Data Engineer                           63000.000000\n",
       "           Data Scientist                          52636.666667\n",
       "           Head of Data                           112500.000000\n",
       "           MLOps Engineer                          27568.000000\n",
       "           Principal Machine Learning Engineer     38290.000000\n",
       "Canada     AI Developer                           275000.000000\n",
       "           AI Engineer                             50000.000000\n",
       "           AI Programmer                           74087.000000\n",
       "           AI Scientist                           200000.000000\n",
       "           Analytics Engineer                     138800.000000\n",
       "           Applied Data Scientist                  54238.000000\n",
       "           Big Data Architect                      99703.000000\n",
       "           Big Data Engineer                      161311.000000\n",
       "           Business Data Analyst                   69133.000000\n",
       "Name: Salary in USD, dtype: float64"
      ]
     },
     "execution_count": 2275,
     "metadata": {},
     "output_type": "execute_result"
    }
   ],
   "source": [
    "salaries_means = df.groupby(['Country','Job Title'])['Salary in USD'].mean()\n",
    "salaries_means.head(40)"
   ]
  },
  {
   "cell_type": "markdown",
   "id": "b5da5e6c-5e42-4eff-9f6a-6f37e4c62adb",
   "metadata": {},
   "source": [
    "## Save new Data"
   ]
  },
  {
   "cell_type": "code",
   "execution_count": 2277,
   "id": "2c421c9c-4b76-4e3d-8c21-2c9be1148523",
   "metadata": {
    "tags": []
   },
   "outputs": [],
   "source": [
    "df.to_csv('/Users/juliabolgova/Documents/GitHub/f/Capstone_IuliiaBolgova/CapstoneProject/data/interim/salaries.csv', index=True)"
   ]
  }
 ],
 "metadata": {
  "kernelspec": {
   "display_name": "Python 3 (ipykernel)",
   "language": "python",
   "name": "python3"
  },
  "language_info": {
   "codemirror_mode": {
    "name": "ipython",
    "version": 3
   },
   "file_extension": ".py",
   "mimetype": "text/x-python",
   "name": "python",
   "nbconvert_exporter": "python",
   "pygments_lexer": "ipython3",
   "version": "3.11.7"
  }
 },
 "nbformat": 4,
 "nbformat_minor": 5
}
